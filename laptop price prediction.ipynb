{
 "cells": [
  {
   "cell_type": "code",
   "execution_count": 1,
   "id": "0ad7e248",
   "metadata": {},
   "outputs": [],
   "source": [
    "import warnings\n",
    "warnings.filterwarnings('ignore')\n",
    "\n",
    "import pandas as pd\n",
    "import numpy as np\n",
    "#import h5py\n",
    "import matplotlib.pyplot as plt\n",
    "%matplotlib inline\n",
    "import seaborn as sns\n",
    "from sklearn.preprocessing import MinMaxScaler\n",
    "from sklearn.preprocessing import StandardScaler,RobustScaler\n",
    "from sklearn.model_selection import train_test_split,StratifiedKFold,GridSearchCV\n",
    "from sklearn.model_selection import cross_val_score\n",
    "from sklearn.linear_model import LinearRegression\n",
    "from sklearn.tree import DecisionTreeRegressor\n",
    "from sklearn.ensemble import RandomForestRegressor, AdaBoostRegressor\n",
    "from sklearn.svm import SVR\n",
    "from xgboost import XGBRegressor\n",
    "from sklearn.metrics import mean_squared_error ,r2_score,mean_absolute_error\n",
    "from sklearn.model_selection import KFold\n",
    "from tensorflow.keras.models import Sequential\n",
    "from tensorflow.keras.layers import Dense\n",
    "from tensorflow.keras.layers import LeakyReLU\n",
    "import time\n",
    "\n"
   ]
  },
  {
   "cell_type": "code",
   "execution_count": 2,
   "id": "3a23dfaa",
   "metadata": {},
   "outputs": [
    {
     "data": {
      "text/html": [
       "<div>\n",
       "<style scoped>\n",
       "    .dataframe tbody tr th:only-of-type {\n",
       "        vertical-align: middle;\n",
       "    }\n",
       "\n",
       "    .dataframe tbody tr th {\n",
       "        vertical-align: top;\n",
       "    }\n",
       "\n",
       "    .dataframe thead th {\n",
       "        text-align: right;\n",
       "    }\n",
       "</style>\n",
       "<table border=\"1\" class=\"dataframe\">\n",
       "  <thead>\n",
       "    <tr style=\"text-align: right;\">\n",
       "      <th></th>\n",
       "      <th>Unnamed: 0</th>\n",
       "      <th>Company</th>\n",
       "      <th>TypeName</th>\n",
       "      <th>Inches</th>\n",
       "      <th>ScreenResolution</th>\n",
       "      <th>Cpu</th>\n",
       "      <th>Ram</th>\n",
       "      <th>Memory</th>\n",
       "      <th>Gpu</th>\n",
       "      <th>OpSys</th>\n",
       "      <th>Weight</th>\n",
       "      <th>Price</th>\n",
       "    </tr>\n",
       "  </thead>\n",
       "  <tbody>\n",
       "    <tr>\n",
       "      <th>0</th>\n",
       "      <td>0.0</td>\n",
       "      <td>Apple</td>\n",
       "      <td>Ultrabook</td>\n",
       "      <td>13.3</td>\n",
       "      <td>IPS Panel Retina Display 2560x1600</td>\n",
       "      <td>Intel Core i5 2.3GHz</td>\n",
       "      <td>8GB</td>\n",
       "      <td>128GB SSD</td>\n",
       "      <td>Intel Iris Plus Graphics 640</td>\n",
       "      <td>macOS</td>\n",
       "      <td>1.37kg</td>\n",
       "      <td>71378.6832</td>\n",
       "    </tr>\n",
       "    <tr>\n",
       "      <th>1</th>\n",
       "      <td>1.0</td>\n",
       "      <td>Apple</td>\n",
       "      <td>Ultrabook</td>\n",
       "      <td>13.3</td>\n",
       "      <td>1440x900</td>\n",
       "      <td>Intel Core i5 1.8GHz</td>\n",
       "      <td>8GB</td>\n",
       "      <td>128GB Flash Storage</td>\n",
       "      <td>Intel HD Graphics 6000</td>\n",
       "      <td>macOS</td>\n",
       "      <td>1.34kg</td>\n",
       "      <td>47895.5232</td>\n",
       "    </tr>\n",
       "    <tr>\n",
       "      <th>2</th>\n",
       "      <td>2.0</td>\n",
       "      <td>HP</td>\n",
       "      <td>Notebook</td>\n",
       "      <td>15.6</td>\n",
       "      <td>Full HD 1920x1080</td>\n",
       "      <td>Intel Core i5 7200U 2.5GHz</td>\n",
       "      <td>8GB</td>\n",
       "      <td>256GB SSD</td>\n",
       "      <td>Intel HD Graphics 620</td>\n",
       "      <td>No OS</td>\n",
       "      <td>1.86kg</td>\n",
       "      <td>30636.0000</td>\n",
       "    </tr>\n",
       "    <tr>\n",
       "      <th>3</th>\n",
       "      <td>3.0</td>\n",
       "      <td>Apple</td>\n",
       "      <td>Ultrabook</td>\n",
       "      <td>15.4</td>\n",
       "      <td>IPS Panel Retina Display 2880x1800</td>\n",
       "      <td>Intel Core i7 2.7GHz</td>\n",
       "      <td>16GB</td>\n",
       "      <td>512GB SSD</td>\n",
       "      <td>AMD Radeon Pro 455</td>\n",
       "      <td>macOS</td>\n",
       "      <td>1.83kg</td>\n",
       "      <td>135195.3360</td>\n",
       "    </tr>\n",
       "    <tr>\n",
       "      <th>4</th>\n",
       "      <td>4.0</td>\n",
       "      <td>Apple</td>\n",
       "      <td>Ultrabook</td>\n",
       "      <td>13.3</td>\n",
       "      <td>IPS Panel Retina Display 2560x1600</td>\n",
       "      <td>Intel Core i5 3.1GHz</td>\n",
       "      <td>8GB</td>\n",
       "      <td>256GB SSD</td>\n",
       "      <td>Intel Iris Plus Graphics 650</td>\n",
       "      <td>macOS</td>\n",
       "      <td>1.37kg</td>\n",
       "      <td>96095.8080</td>\n",
       "    </tr>\n",
       "    <tr>\n",
       "      <th>...</th>\n",
       "      <td>...</td>\n",
       "      <td>...</td>\n",
       "      <td>...</td>\n",
       "      <td>...</td>\n",
       "      <td>...</td>\n",
       "      <td>...</td>\n",
       "      <td>...</td>\n",
       "      <td>...</td>\n",
       "      <td>...</td>\n",
       "      <td>...</td>\n",
       "      <td>...</td>\n",
       "      <td>...</td>\n",
       "    </tr>\n",
       "    <tr>\n",
       "      <th>1298</th>\n",
       "      <td>1298.0</td>\n",
       "      <td>Lenovo</td>\n",
       "      <td>2 in 1 Convertible</td>\n",
       "      <td>14</td>\n",
       "      <td>IPS Panel Full HD / Touchscreen 1920x1080</td>\n",
       "      <td>Intel Core i7 6500U 2.5GHz</td>\n",
       "      <td>4GB</td>\n",
       "      <td>128GB SSD</td>\n",
       "      <td>Intel HD Graphics 520</td>\n",
       "      <td>Windows 10</td>\n",
       "      <td>1.8kg</td>\n",
       "      <td>33992.6400</td>\n",
       "    </tr>\n",
       "    <tr>\n",
       "      <th>1299</th>\n",
       "      <td>1299.0</td>\n",
       "      <td>Lenovo</td>\n",
       "      <td>2 in 1 Convertible</td>\n",
       "      <td>13.3</td>\n",
       "      <td>IPS Panel Quad HD+ / Touchscreen 3200x1800</td>\n",
       "      <td>Intel Core i7 6500U 2.5GHz</td>\n",
       "      <td>16GB</td>\n",
       "      <td>512GB SSD</td>\n",
       "      <td>Intel HD Graphics 520</td>\n",
       "      <td>Windows 10</td>\n",
       "      <td>1.3kg</td>\n",
       "      <td>79866.7200</td>\n",
       "    </tr>\n",
       "    <tr>\n",
       "      <th>1300</th>\n",
       "      <td>1300.0</td>\n",
       "      <td>Lenovo</td>\n",
       "      <td>Notebook</td>\n",
       "      <td>14</td>\n",
       "      <td>1366x768</td>\n",
       "      <td>Intel Celeron Dual Core N3050 1.6GHz</td>\n",
       "      <td>2GB</td>\n",
       "      <td>64GB Flash Storage</td>\n",
       "      <td>Intel HD Graphics</td>\n",
       "      <td>Windows 10</td>\n",
       "      <td>1.5kg</td>\n",
       "      <td>12201.1200</td>\n",
       "    </tr>\n",
       "    <tr>\n",
       "      <th>1301</th>\n",
       "      <td>1301.0</td>\n",
       "      <td>HP</td>\n",
       "      <td>Notebook</td>\n",
       "      <td>15.6</td>\n",
       "      <td>1366x768</td>\n",
       "      <td>Intel Core i7 6500U 2.5GHz</td>\n",
       "      <td>6GB</td>\n",
       "      <td>1TB HDD</td>\n",
       "      <td>AMD Radeon R5 M330</td>\n",
       "      <td>Windows 10</td>\n",
       "      <td>2.19kg</td>\n",
       "      <td>40705.9200</td>\n",
       "    </tr>\n",
       "    <tr>\n",
       "      <th>1302</th>\n",
       "      <td>1302.0</td>\n",
       "      <td>Asus</td>\n",
       "      <td>Notebook</td>\n",
       "      <td>15.6</td>\n",
       "      <td>1366x768</td>\n",
       "      <td>Intel Celeron Dual Core N3050 1.6GHz</td>\n",
       "      <td>4GB</td>\n",
       "      <td>500GB HDD</td>\n",
       "      <td>Intel HD Graphics</td>\n",
       "      <td>Windows 10</td>\n",
       "      <td>2.2kg</td>\n",
       "      <td>19660.3200</td>\n",
       "    </tr>\n",
       "  </tbody>\n",
       "</table>\n",
       "<p>1303 rows × 12 columns</p>\n",
       "</div>"
      ],
      "text/plain": [
       "      Unnamed: 0 Company            TypeName Inches  \\\n",
       "0            0.0   Apple           Ultrabook   13.3   \n",
       "1            1.0   Apple           Ultrabook   13.3   \n",
       "2            2.0      HP            Notebook   15.6   \n",
       "3            3.0   Apple           Ultrabook   15.4   \n",
       "4            4.0   Apple           Ultrabook   13.3   \n",
       "...          ...     ...                 ...    ...   \n",
       "1298      1298.0  Lenovo  2 in 1 Convertible     14   \n",
       "1299      1299.0  Lenovo  2 in 1 Convertible   13.3   \n",
       "1300      1300.0  Lenovo            Notebook     14   \n",
       "1301      1301.0      HP            Notebook   15.6   \n",
       "1302      1302.0    Asus            Notebook   15.6   \n",
       "\n",
       "                                ScreenResolution  \\\n",
       "0             IPS Panel Retina Display 2560x1600   \n",
       "1                                       1440x900   \n",
       "2                              Full HD 1920x1080   \n",
       "3             IPS Panel Retina Display 2880x1800   \n",
       "4             IPS Panel Retina Display 2560x1600   \n",
       "...                                          ...   \n",
       "1298   IPS Panel Full HD / Touchscreen 1920x1080   \n",
       "1299  IPS Panel Quad HD+ / Touchscreen 3200x1800   \n",
       "1300                                    1366x768   \n",
       "1301                                    1366x768   \n",
       "1302                                    1366x768   \n",
       "\n",
       "                                       Cpu   Ram               Memory  \\\n",
       "0                     Intel Core i5 2.3GHz   8GB            128GB SSD   \n",
       "1                     Intel Core i5 1.8GHz   8GB  128GB Flash Storage   \n",
       "2               Intel Core i5 7200U 2.5GHz   8GB            256GB SSD   \n",
       "3                     Intel Core i7 2.7GHz  16GB            512GB SSD   \n",
       "4                     Intel Core i5 3.1GHz   8GB            256GB SSD   \n",
       "...                                    ...   ...                  ...   \n",
       "1298            Intel Core i7 6500U 2.5GHz   4GB            128GB SSD   \n",
       "1299            Intel Core i7 6500U 2.5GHz  16GB            512GB SSD   \n",
       "1300  Intel Celeron Dual Core N3050 1.6GHz   2GB   64GB Flash Storage   \n",
       "1301            Intel Core i7 6500U 2.5GHz   6GB              1TB HDD   \n",
       "1302  Intel Celeron Dual Core N3050 1.6GHz   4GB            500GB HDD   \n",
       "\n",
       "                               Gpu       OpSys  Weight        Price  \n",
       "0     Intel Iris Plus Graphics 640       macOS  1.37kg   71378.6832  \n",
       "1           Intel HD Graphics 6000       macOS  1.34kg   47895.5232  \n",
       "2            Intel HD Graphics 620       No OS  1.86kg   30636.0000  \n",
       "3               AMD Radeon Pro 455       macOS  1.83kg  135195.3360  \n",
       "4     Intel Iris Plus Graphics 650       macOS  1.37kg   96095.8080  \n",
       "...                            ...         ...     ...          ...  \n",
       "1298         Intel HD Graphics 520  Windows 10   1.8kg   33992.6400  \n",
       "1299         Intel HD Graphics 520  Windows 10   1.3kg   79866.7200  \n",
       "1300             Intel HD Graphics  Windows 10   1.5kg   12201.1200  \n",
       "1301            AMD Radeon R5 M330  Windows 10  2.19kg   40705.9200  \n",
       "1302             Intel HD Graphics  Windows 10   2.2kg   19660.3200  \n",
       "\n",
       "[1303 rows x 12 columns]"
      ]
     },
     "execution_count": 2,
     "metadata": {},
     "output_type": "execute_result"
    }
   ],
   "source": [
    "df=pd.read_csv(r'C:\\Users\\pc\\Documents\\files.csv\\Laptop Dataset.csv')\n",
    "df"
   ]
  },
  {
   "cell_type": "code",
   "execution_count": 3,
   "id": "d8bdae2d",
   "metadata": {},
   "outputs": [
    {
     "data": {
      "text/plain": [
       "Index(['Unnamed: 0', 'Company', 'TypeName', 'Inches', 'ScreenResolution',\n",
       "       'Cpu', 'Ram', 'Memory', 'Gpu', 'OpSys', 'Weight', 'Price'],\n",
       "      dtype='object')"
      ]
     },
     "execution_count": 3,
     "metadata": {},
     "output_type": "execute_result"
    }
   ],
   "source": [
    "columns=df.columns\n",
    "columns"
   ]
  },
  {
   "cell_type": "code",
   "execution_count": 4,
   "id": "e5f4682d",
   "metadata": {},
   "outputs": [
    {
     "data": {
      "text/plain": [
       "Unnamed: 0          30\n",
       "Company             30\n",
       "TypeName            30\n",
       "Inches              30\n",
       "ScreenResolution    30\n",
       "Cpu                 30\n",
       "Ram                 30\n",
       "Memory              30\n",
       "Gpu                 30\n",
       "OpSys               30\n",
       "Weight              30\n",
       "Price               30\n",
       "dtype: int64"
      ]
     },
     "execution_count": 4,
     "metadata": {},
     "output_type": "execute_result"
    }
   ],
   "source": [
    "df.isna().sum()"
   ]
  },
  {
   "cell_type": "code",
   "execution_count": 5,
   "id": "c4529687",
   "metadata": {},
   "outputs": [],
   "source": [
    "df.dropna(inplace=True)"
   ]
  },
  {
   "cell_type": "code",
   "execution_count": 6,
   "id": "15339373",
   "metadata": {},
   "outputs": [
    {
     "data": {
      "text/plain": [
       "Unnamed: 0          0\n",
       "Company             0\n",
       "TypeName            0\n",
       "Inches              0\n",
       "ScreenResolution    0\n",
       "Cpu                 0\n",
       "Ram                 0\n",
       "Memory              0\n",
       "Gpu                 0\n",
       "OpSys               0\n",
       "Weight              0\n",
       "Price               0\n",
       "dtype: int64"
      ]
     },
     "execution_count": 6,
     "metadata": {},
     "output_type": "execute_result"
    }
   ],
   "source": [
    "df.isna().sum()"
   ]
  },
  {
   "cell_type": "code",
   "execution_count": 7,
   "id": "1d49b871",
   "metadata": {},
   "outputs": [
    {
     "name": "stdout",
     "output_type": "stream",
     "text": [
      "0.0       1\n",
      "1285.0    1\n",
      "757.0     1\n",
      "1069.0    1\n",
      "986.0     1\n",
      "         ..\n",
      "1061.0    1\n",
      "728.0     1\n",
      "637.0     1\n",
      "904.0     1\n",
      "1211.0    1\n",
      "Name: Unnamed: 0, Length: 1273, dtype: int64\n",
      "Lenovo       290\n",
      "Dell         287\n",
      "HP           266\n",
      "Asus         156\n",
      "Acer         103\n",
      "MSI           53\n",
      "Toshiba       47\n",
      "Apple         21\n",
      "Samsung        9\n",
      "Razer          7\n",
      "Mediacom       7\n",
      "Microsoft      6\n",
      "Xiaomi         4\n",
      "Vero           4\n",
      "Chuwi          3\n",
      "LG             3\n",
      "Google         3\n",
      "Fujitsu        2\n",
      "Huawei         2\n",
      "Name: Company, dtype: int64\n",
      "Notebook              710\n",
      "Gaming                203\n",
      "Ultrabook             191\n",
      "2 in 1 Convertible    116\n",
      "Workstation            29\n",
      "Netbook                24\n",
      "Name: TypeName, dtype: int64\n",
      "15.6    640\n",
      "14      192\n",
      "17.3    162\n",
      "13.3    161\n",
      "12.5     38\n",
      "11.6     31\n",
      "12        6\n",
      "13.9      6\n",
      "13.5      5\n",
      "12.3      5\n",
      "15        4\n",
      "15.4      4\n",
      "35.6      3\n",
      "10.1      3\n",
      "13        2\n",
      "24        2\n",
      "17        1\n",
      "33.5      1\n",
      "11.3      1\n",
      "?         1\n",
      "18.4      1\n",
      "25.6      1\n",
      "14.1      1\n",
      "31.6      1\n",
      "27.3      1\n",
      "Name: Inches, dtype: int64\n",
      "Full HD 1920x1080                                495\n",
      "1366x768                                         274\n",
      "IPS Panel Full HD 1920x1080                      226\n",
      "IPS Panel Full HD / Touchscreen 1920x1080         52\n",
      "Full HD / Touchscreen 1920x1080                   45\n",
      "1600x900                                          23\n",
      "Touchscreen 1366x768                              16\n",
      "Quad HD+ / Touchscreen 3200x1800                  14\n",
      "IPS Panel 4K Ultra HD 3840x2160                   12\n",
      "IPS Panel 4K Ultra HD / Touchscreen 3840x2160     11\n",
      "4K Ultra HD / Touchscreen 3840x2160                9\n",
      "IPS Panel 1366x768                                 7\n",
      "4K Ultra HD 3840x2160                              7\n",
      "Touchscreen 2256x1504                              6\n",
      "IPS Panel Retina Display 2304x1440                 6\n",
      "Touchscreen 2560x1440                              6\n",
      "IPS Panel Retina Display 2560x1600                 6\n",
      "IPS Panel Quad HD+ / Touchscreen 3200x1800         6\n",
      "IPS Panel Touchscreen 2560x1440                    5\n",
      "IPS Panel 2560x1440                                4\n",
      "IPS Panel Retina Display 2880x1800                 4\n",
      "1440x900                                           4\n",
      "IPS Panel Touchscreen 1366x768                     3\n",
      "Quad HD+ 3200x1800                                 3\n",
      "2560x1440                                          3\n",
      "Touchscreen 2400x1600                              3\n",
      "IPS Panel Touchscreen 1920x1200                    3\n",
      "1920x1080                                          3\n",
      "IPS Panel Quad HD+ 2560x1440                       3\n",
      "IPS Panel Full HD 2160x1440                        2\n",
      "IPS Panel Quad HD+ 3200x1800                       2\n",
      "IPS Panel Touchscreen / 4K Ultra HD 3840x2160      2\n",
      "IPS Panel Full HD 2560x1440                        1\n",
      "Touchscreen / 4K Ultra HD 3840x2160                1\n",
      "IPS Panel Retina Display 2736x1824                 1\n",
      "IPS Panel Touchscreen 2400x1600                    1\n",
      "Touchscreen / Full HD 1920x1080                    1\n",
      "Touchscreen / Quad HD+ 3200x1800                   1\n",
      "IPS Panel Full HD 1920x1200                        1\n",
      "IPS Panel Full HD 1366x768                         1\n",
      "Name: ScreenResolution, dtype: int64\n",
      "Intel Core i5 7200U 2.5GHz     183\n",
      "Intel Core i7 7700HQ 2.8GHz    142\n",
      "Intel Core i7 7500U 2.7GHz     128\n",
      "Intel Core i7 8550U 1.8GHz      72\n",
      "Intel Core i5 8250U 1.6GHz      68\n",
      "                              ... \n",
      "AMD FX 8800P 2.1GHz              1\n",
      "Intel Core i5 7200U 2.70GHz      1\n",
      "AMD A12-Series 9700P 2.5GHz      1\n",
      "Intel Core i7 6920HQ 2.9GHz      1\n",
      "Intel Core i5 7500U 2.7GHz       1\n",
      "Name: Cpu, Length: 118, dtype: int64\n",
      "8GB     601\n",
      "4GB     367\n",
      "16GB    194\n",
      "6GB      40\n",
      "12GB     25\n",
      "2GB      22\n",
      "32GB     17\n",
      "64GB      3\n",
      "24GB      3\n",
      "1GB       1\n",
      "Name: Ram, dtype: int64\n",
      "256GB SSD                        401\n",
      "1TB HDD                          217\n",
      "500GB HDD                        130\n",
      "512GB SSD                        116\n",
      "128GB SSD +  1TB HDD              92\n",
      "128GB SSD                         74\n",
      "256GB SSD +  1TB HDD              71\n",
      "32GB Flash Storage                37\n",
      "2TB HDD                           16\n",
      "512GB SSD +  1TB HDD              14\n",
      "64GB Flash Storage                14\n",
      "1TB SSD                           13\n",
      "256GB SSD +  2TB HDD              10\n",
      "1.0TB Hybrid                       9\n",
      "256GB Flash Storage                8\n",
      "16GB Flash Storage                 7\n",
      "32GB SSD                           6\n",
      "128GB Flash Storage                4\n",
      "180GB SSD                          4\n",
      "512GB SSD +  2TB HDD               3\n",
      "16GB SSD                           3\n",
      "256GB SSD +  500GB HDD             2\n",
      "1TB SSD +  1TB HDD                 2\n",
      "256GB SSD +  256GB SSD             2\n",
      "512GB Flash Storage                2\n",
      "128GB SSD +  2TB HDD               2\n",
      "64GB SSD                           1\n",
      "1TB HDD +  1TB HDD                 1\n",
      "512GB SSD +  512GB SSD             1\n",
      "128GB HDD                          1\n",
      "240GB SSD                          1\n",
      "?                                  1\n",
      "512GB SSD +  256GB SSD             1\n",
      "256GB SSD +  1.0TB Hybrid          1\n",
      "1.0TB HDD                          1\n",
      "508GB Hybrid                       1\n",
      "512GB SSD +  1.0TB Hybrid          1\n",
      "32GB HDD                           1\n",
      "64GB Flash Storage +  1TB HDD      1\n",
      "8GB SSD                            1\n",
      "Name: Memory, dtype: int64\n",
      "Intel HD Graphics 620      271\n",
      "Intel HD Graphics 520      181\n",
      "Intel UHD Graphics 620      66\n",
      "Nvidia GeForce GTX 1050     64\n",
      "Nvidia GeForce GTX 1060     48\n",
      "                          ... \n",
      "Nvidia GeForce 960M          1\n",
      "Intel HD Graphics 530        1\n",
      "AMD Radeon R7 M365X          1\n",
      "AMD Radeon R5 M315           1\n",
      "AMD Radeon R5 520            1\n",
      "Name: Gpu, Length: 110, dtype: int64\n",
      "Windows 10      1047\n",
      "No OS             63\n",
      "Linux             61\n",
      "Windows 7         45\n",
      "Chrome OS         27\n",
      "macOS             13\n",
      "Mac OS X           8\n",
      "Windows 10 S       8\n",
      "Android            1\n",
      "Name: OpSys, dtype: int64\n",
      "2.2kg      111\n",
      "2.1kg       57\n",
      "2.4kg       43\n",
      "2.3kg       41\n",
      "2.5kg       37\n",
      "          ... \n",
      "2.591kg      1\n",
      "?            1\n",
      "2.75kg       1\n",
      "2.72kg       1\n",
      "2.99kg       1\n",
      "Name: Weight, Length: 189, dtype: int64\n",
      "79866.7200     14\n",
      "58554.7200     14\n",
      "95850.7200     14\n",
      "69210.7200     11\n",
      "63882.7200     11\n",
      "               ..\n",
      "19367.8128      1\n",
      "44808.4800      1\n",
      "49656.9600      1\n",
      "112065.9552     1\n",
      "29696.6736      1\n",
      "Name: Price, Length: 777, dtype: int64\n"
     ]
    }
   ],
   "source": [
    "for i in df:\n",
    "    print(df[i].value_counts())"
   ]
  },
  {
   "cell_type": "code",
   "execution_count": 8,
   "id": "bb701d7d",
   "metadata": {},
   "outputs": [],
   "source": [
    "df.replace('?',np.NaN,inplace=True)\n",
    "df['Inches']=df['Inches'].astype('float')\n",
    "df['Ram']=df['Ram'].str[:-2]\n",
    "df['Ram']=df['Ram'].astype('int')\n",
    "df['Weight']=df['Weight'].str[:-2]\n",
    "df['Weight']=df['Weight'].astype('float')"
   ]
  },
  {
   "cell_type": "code",
   "execution_count": 9,
   "id": "5b514cb0",
   "metadata": {},
   "outputs": [
    {
     "name": "stdout",
     "output_type": "stream",
     "text": [
      "<class 'pandas.core.frame.DataFrame'>\n",
      "Int64Index: 1273 entries, 0 to 1302\n",
      "Data columns (total 12 columns):\n",
      " #   Column            Non-Null Count  Dtype  \n",
      "---  ------            --------------  -----  \n",
      " 0   Unnamed: 0        1273 non-null   float64\n",
      " 1   Company           1273 non-null   object \n",
      " 2   TypeName          1273 non-null   object \n",
      " 3   Inches            1272 non-null   float64\n",
      " 4   ScreenResolution  1273 non-null   object \n",
      " 5   Cpu               1273 non-null   object \n",
      " 6   Ram               1273 non-null   int32  \n",
      " 7   Memory            1272 non-null   object \n",
      " 8   Gpu               1273 non-null   object \n",
      " 9   OpSys             1273 non-null   object \n",
      " 10  Weight            1272 non-null   float64\n",
      " 11  Price             1273 non-null   float64\n",
      "dtypes: float64(4), int32(1), object(7)\n",
      "memory usage: 124.3+ KB\n"
     ]
    }
   ],
   "source": [
    "df.info()"
   ]
  },
  {
   "cell_type": "code",
   "execution_count": 10,
   "id": "3918f4d3",
   "metadata": {},
   "outputs": [
    {
     "data": {
      "text/html": [
       "<div>\n",
       "<style scoped>\n",
       "    .dataframe tbody tr th:only-of-type {\n",
       "        vertical-align: middle;\n",
       "    }\n",
       "\n",
       "    .dataframe tbody tr th {\n",
       "        vertical-align: top;\n",
       "    }\n",
       "\n",
       "    .dataframe thead th {\n",
       "        text-align: right;\n",
       "    }\n",
       "</style>\n",
       "<table border=\"1\" class=\"dataframe\">\n",
       "  <thead>\n",
       "    <tr style=\"text-align: right;\">\n",
       "      <th></th>\n",
       "      <th>Unnamed: 0</th>\n",
       "      <th>Company</th>\n",
       "      <th>TypeName</th>\n",
       "      <th>Inches</th>\n",
       "      <th>ScreenResolution</th>\n",
       "      <th>Cpu</th>\n",
       "      <th>Ram</th>\n",
       "      <th>Memory</th>\n",
       "      <th>Gpu</th>\n",
       "      <th>OpSys</th>\n",
       "      <th>Weight</th>\n",
       "      <th>Price</th>\n",
       "    </tr>\n",
       "  </thead>\n",
       "  <tbody>\n",
       "    <tr>\n",
       "      <th>0</th>\n",
       "      <td>0.0</td>\n",
       "      <td>Apple</td>\n",
       "      <td>Ultrabook</td>\n",
       "      <td>13.3</td>\n",
       "      <td>IPS Panel Retina Display 2560x1600</td>\n",
       "      <td>Intel Core i5 2.3GHz</td>\n",
       "      <td>8</td>\n",
       "      <td>128GB SSD</td>\n",
       "      <td>Intel Iris Plus Graphics 640</td>\n",
       "      <td>macOS</td>\n",
       "      <td>1.37</td>\n",
       "      <td>71378.6832</td>\n",
       "    </tr>\n",
       "    <tr>\n",
       "      <th>1</th>\n",
       "      <td>1.0</td>\n",
       "      <td>Apple</td>\n",
       "      <td>Ultrabook</td>\n",
       "      <td>13.3</td>\n",
       "      <td>1440x900</td>\n",
       "      <td>Intel Core i5 1.8GHz</td>\n",
       "      <td>8</td>\n",
       "      <td>128GB Flash Storage</td>\n",
       "      <td>Intel HD Graphics 6000</td>\n",
       "      <td>macOS</td>\n",
       "      <td>1.34</td>\n",
       "      <td>47895.5232</td>\n",
       "    </tr>\n",
       "    <tr>\n",
       "      <th>2</th>\n",
       "      <td>2.0</td>\n",
       "      <td>HP</td>\n",
       "      <td>Notebook</td>\n",
       "      <td>15.6</td>\n",
       "      <td>Full HD 1920x1080</td>\n",
       "      <td>Intel Core i5 7200U 2.5GHz</td>\n",
       "      <td>8</td>\n",
       "      <td>256GB SSD</td>\n",
       "      <td>Intel HD Graphics 620</td>\n",
       "      <td>No OS</td>\n",
       "      <td>1.86</td>\n",
       "      <td>30636.0000</td>\n",
       "    </tr>\n",
       "    <tr>\n",
       "      <th>3</th>\n",
       "      <td>3.0</td>\n",
       "      <td>Apple</td>\n",
       "      <td>Ultrabook</td>\n",
       "      <td>15.4</td>\n",
       "      <td>IPS Panel Retina Display 2880x1800</td>\n",
       "      <td>Intel Core i7 2.7GHz</td>\n",
       "      <td>16</td>\n",
       "      <td>512GB SSD</td>\n",
       "      <td>AMD Radeon Pro 455</td>\n",
       "      <td>macOS</td>\n",
       "      <td>1.83</td>\n",
       "      <td>135195.3360</td>\n",
       "    </tr>\n",
       "    <tr>\n",
       "      <th>4</th>\n",
       "      <td>4.0</td>\n",
       "      <td>Apple</td>\n",
       "      <td>Ultrabook</td>\n",
       "      <td>13.3</td>\n",
       "      <td>IPS Panel Retina Display 2560x1600</td>\n",
       "      <td>Intel Core i5 3.1GHz</td>\n",
       "      <td>8</td>\n",
       "      <td>256GB SSD</td>\n",
       "      <td>Intel Iris Plus Graphics 650</td>\n",
       "      <td>macOS</td>\n",
       "      <td>1.37</td>\n",
       "      <td>96095.8080</td>\n",
       "    </tr>\n",
       "  </tbody>\n",
       "</table>\n",
       "</div>"
      ],
      "text/plain": [
       "   Unnamed: 0 Company   TypeName  Inches                    ScreenResolution  \\\n",
       "0         0.0   Apple  Ultrabook    13.3  IPS Panel Retina Display 2560x1600   \n",
       "1         1.0   Apple  Ultrabook    13.3                            1440x900   \n",
       "2         2.0      HP   Notebook    15.6                   Full HD 1920x1080   \n",
       "3         3.0   Apple  Ultrabook    15.4  IPS Panel Retina Display 2880x1800   \n",
       "4         4.0   Apple  Ultrabook    13.3  IPS Panel Retina Display 2560x1600   \n",
       "\n",
       "                          Cpu  Ram               Memory  \\\n",
       "0        Intel Core i5 2.3GHz    8            128GB SSD   \n",
       "1        Intel Core i5 1.8GHz    8  128GB Flash Storage   \n",
       "2  Intel Core i5 7200U 2.5GHz    8            256GB SSD   \n",
       "3        Intel Core i7 2.7GHz   16            512GB SSD   \n",
       "4        Intel Core i5 3.1GHz    8            256GB SSD   \n",
       "\n",
       "                            Gpu  OpSys  Weight        Price  \n",
       "0  Intel Iris Plus Graphics 640  macOS    1.37   71378.6832  \n",
       "1        Intel HD Graphics 6000  macOS    1.34   47895.5232  \n",
       "2         Intel HD Graphics 620  No OS    1.86   30636.0000  \n",
       "3            AMD Radeon Pro 455  macOS    1.83  135195.3360  \n",
       "4  Intel Iris Plus Graphics 650  macOS    1.37   96095.8080  "
      ]
     },
     "execution_count": 10,
     "metadata": {},
     "output_type": "execute_result"
    }
   ],
   "source": [
    "df.head()"
   ]
  },
  {
   "cell_type": "code",
   "execution_count": 11,
   "id": "f1f13514",
   "metadata": {},
   "outputs": [
    {
     "data": {
      "text/plain": [
       "Unnamed: 0          0\n",
       "Company             0\n",
       "TypeName            0\n",
       "Inches              1\n",
       "ScreenResolution    0\n",
       "Cpu                 0\n",
       "Ram                 0\n",
       "Memory              1\n",
       "Gpu                 0\n",
       "OpSys               0\n",
       "Weight              1\n",
       "Price               0\n",
       "dtype: int64"
      ]
     },
     "execution_count": 11,
     "metadata": {},
     "output_type": "execute_result"
    }
   ],
   "source": [
    "df.isna().sum()"
   ]
  },
  {
   "cell_type": "code",
   "execution_count": 12,
   "id": "33f747ea",
   "metadata": {},
   "outputs": [],
   "source": [
    "df1=df.copy()\n",
    "df1=df.dropna()\n",
    "#df1['Inches'].fillna(df['Inches'].mean(),inplace=True)\n",
    "#df1['Weight'].fillna(df['Weight'].mean(),inplace=True)\n",
    "#df1['Memory'].fillna(df['Memory'].mode()[0],inplace=True)"
   ]
  },
  {
   "cell_type": "code",
   "execution_count": 13,
   "id": "f5f36e05",
   "metadata": {},
   "outputs": [
    {
     "data": {
      "text/plain": [
       "Unnamed: 0          0\n",
       "Company             0\n",
       "TypeName            0\n",
       "Inches              0\n",
       "ScreenResolution    0\n",
       "Cpu                 0\n",
       "Ram                 0\n",
       "Memory              0\n",
       "Gpu                 0\n",
       "OpSys               0\n",
       "Weight              0\n",
       "Price               0\n",
       "dtype: int64"
      ]
     },
     "execution_count": 13,
     "metadata": {},
     "output_type": "execute_result"
    }
   ],
   "source": [
    "df1.isna().sum()"
   ]
  },
  {
   "cell_type": "code",
   "execution_count": 14,
   "id": "87a514c2",
   "metadata": {},
   "outputs": [],
   "source": [
    "df2=df1.copy()\n",
    "df2=df1[['Company', 'TypeName', 'Inches', \n",
    "                       'ScreenResolution','Cpu', 'Ram', \n",
    "                       'Memory', 'Gpu', 'OpSys', 'Weight', \n",
    "                       'Price']]"
   ]
  },
  {
   "cell_type": "code",
   "execution_count": 15,
   "id": "1c3c5109",
   "metadata": {},
   "outputs": [
    {
     "data": {
      "text/plain": [
       "Index(['Company', 'TypeName', 'Inches', 'ScreenResolution', 'Cpu', 'Ram',\n",
       "       'Memory', 'Gpu', 'OpSys', 'Weight', 'Price'],\n",
       "      dtype='object')"
      ]
     },
     "execution_count": 15,
     "metadata": {},
     "output_type": "execute_result"
    }
   ],
   "source": [
    "columns=df2.columns\n",
    "columns"
   ]
  },
  {
   "cell_type": "code",
   "execution_count": 16,
   "id": "fb770ba8",
   "metadata": {},
   "outputs": [
    {
     "data": {
      "text/html": [
       "<div>\n",
       "<style scoped>\n",
       "    .dataframe tbody tr th:only-of-type {\n",
       "        vertical-align: middle;\n",
       "    }\n",
       "\n",
       "    .dataframe tbody tr th {\n",
       "        vertical-align: top;\n",
       "    }\n",
       "\n",
       "    .dataframe thead th {\n",
       "        text-align: right;\n",
       "    }\n",
       "</style>\n",
       "<table border=\"1\" class=\"dataframe\">\n",
       "  <thead>\n",
       "    <tr style=\"text-align: right;\">\n",
       "      <th></th>\n",
       "      <th>Company</th>\n",
       "      <th>TypeName</th>\n",
       "      <th>Inches</th>\n",
       "      <th>ScreenResolution</th>\n",
       "      <th>Cpu</th>\n",
       "      <th>Ram</th>\n",
       "      <th>Memory</th>\n",
       "      <th>Gpu</th>\n",
       "      <th>OpSys</th>\n",
       "      <th>Weight</th>\n",
       "      <th>Price</th>\n",
       "    </tr>\n",
       "  </thead>\n",
       "  <tbody>\n",
       "    <tr>\n",
       "      <th>0</th>\n",
       "      <td>Apple</td>\n",
       "      <td>Ultrabook</td>\n",
       "      <td>13.3</td>\n",
       "      <td>IPS Panel Retina Display 2560x1600</td>\n",
       "      <td>Intel Core i5 2.3GHz</td>\n",
       "      <td>8</td>\n",
       "      <td>128GB SSD</td>\n",
       "      <td>Intel Iris Plus Graphics 640</td>\n",
       "      <td>macOS</td>\n",
       "      <td>1.37</td>\n",
       "      <td>71378.6832</td>\n",
       "    </tr>\n",
       "    <tr>\n",
       "      <th>1</th>\n",
       "      <td>Apple</td>\n",
       "      <td>Ultrabook</td>\n",
       "      <td>13.3</td>\n",
       "      <td>1440x900</td>\n",
       "      <td>Intel Core i5 1.8GHz</td>\n",
       "      <td>8</td>\n",
       "      <td>128GB Flash Storage</td>\n",
       "      <td>Intel HD Graphics 6000</td>\n",
       "      <td>macOS</td>\n",
       "      <td>1.34</td>\n",
       "      <td>47895.5232</td>\n",
       "    </tr>\n",
       "    <tr>\n",
       "      <th>2</th>\n",
       "      <td>HP</td>\n",
       "      <td>Notebook</td>\n",
       "      <td>15.6</td>\n",
       "      <td>Full HD 1920x1080</td>\n",
       "      <td>Intel Core i5 7200U 2.5GHz</td>\n",
       "      <td>8</td>\n",
       "      <td>256GB SSD</td>\n",
       "      <td>Intel HD Graphics 620</td>\n",
       "      <td>No OS</td>\n",
       "      <td>1.86</td>\n",
       "      <td>30636.0000</td>\n",
       "    </tr>\n",
       "    <tr>\n",
       "      <th>3</th>\n",
       "      <td>Apple</td>\n",
       "      <td>Ultrabook</td>\n",
       "      <td>15.4</td>\n",
       "      <td>IPS Panel Retina Display 2880x1800</td>\n",
       "      <td>Intel Core i7 2.7GHz</td>\n",
       "      <td>16</td>\n",
       "      <td>512GB SSD</td>\n",
       "      <td>AMD Radeon Pro 455</td>\n",
       "      <td>macOS</td>\n",
       "      <td>1.83</td>\n",
       "      <td>135195.3360</td>\n",
       "    </tr>\n",
       "    <tr>\n",
       "      <th>4</th>\n",
       "      <td>Apple</td>\n",
       "      <td>Ultrabook</td>\n",
       "      <td>13.3</td>\n",
       "      <td>IPS Panel Retina Display 2560x1600</td>\n",
       "      <td>Intel Core i5 3.1GHz</td>\n",
       "      <td>8</td>\n",
       "      <td>256GB SSD</td>\n",
       "      <td>Intel Iris Plus Graphics 650</td>\n",
       "      <td>macOS</td>\n",
       "      <td>1.37</td>\n",
       "      <td>96095.8080</td>\n",
       "    </tr>\n",
       "  </tbody>\n",
       "</table>\n",
       "</div>"
      ],
      "text/plain": [
       "  Company   TypeName  Inches                    ScreenResolution  \\\n",
       "0   Apple  Ultrabook    13.3  IPS Panel Retina Display 2560x1600   \n",
       "1   Apple  Ultrabook    13.3                            1440x900   \n",
       "2      HP   Notebook    15.6                   Full HD 1920x1080   \n",
       "3   Apple  Ultrabook    15.4  IPS Panel Retina Display 2880x1800   \n",
       "4   Apple  Ultrabook    13.3  IPS Panel Retina Display 2560x1600   \n",
       "\n",
       "                          Cpu  Ram               Memory  \\\n",
       "0        Intel Core i5 2.3GHz    8            128GB SSD   \n",
       "1        Intel Core i5 1.8GHz    8  128GB Flash Storage   \n",
       "2  Intel Core i5 7200U 2.5GHz    8            256GB SSD   \n",
       "3        Intel Core i7 2.7GHz   16            512GB SSD   \n",
       "4        Intel Core i5 3.1GHz    8            256GB SSD   \n",
       "\n",
       "                            Gpu  OpSys  Weight        Price  \n",
       "0  Intel Iris Plus Graphics 640  macOS    1.37   71378.6832  \n",
       "1        Intel HD Graphics 6000  macOS    1.34   47895.5232  \n",
       "2         Intel HD Graphics 620  No OS    1.86   30636.0000  \n",
       "3            AMD Radeon Pro 455  macOS    1.83  135195.3360  \n",
       "4  Intel Iris Plus Graphics 650  macOS    1.37   96095.8080  "
      ]
     },
     "execution_count": 16,
     "metadata": {},
     "output_type": "execute_result"
    }
   ],
   "source": [
    "df2.head()"
   ]
  },
  {
   "cell_type": "code",
   "execution_count": 17,
   "id": "eb5978e9",
   "metadata": {},
   "outputs": [
    {
     "data": {
      "text/plain": [
       "(1270, 11)"
      ]
     },
     "execution_count": 17,
     "metadata": {},
     "output_type": "execute_result"
    }
   ],
   "source": [
    "df2.shape"
   ]
  },
  {
   "cell_type": "code",
   "execution_count": 18,
   "id": "c610b3f3",
   "metadata": {},
   "outputs": [
    {
     "data": {
      "text/html": [
       "<div>\n",
       "<style scoped>\n",
       "    .dataframe tbody tr th:only-of-type {\n",
       "        vertical-align: middle;\n",
       "    }\n",
       "\n",
       "    .dataframe tbody tr th {\n",
       "        vertical-align: top;\n",
       "    }\n",
       "\n",
       "    .dataframe thead th {\n",
       "        text-align: right;\n",
       "    }\n",
       "</style>\n",
       "<table border=\"1\" class=\"dataframe\">\n",
       "  <thead>\n",
       "    <tr style=\"text-align: right;\">\n",
       "      <th></th>\n",
       "      <th>Inches</th>\n",
       "      <th>Ram</th>\n",
       "      <th>Weight</th>\n",
       "      <th>Price</th>\n",
       "    </tr>\n",
       "  </thead>\n",
       "  <tbody>\n",
       "    <tr>\n",
       "      <th>count</th>\n",
       "      <td>1270.000000</td>\n",
       "      <td>1270.00000</td>\n",
       "      <td>1270.000000</td>\n",
       "      <td>1270.000000</td>\n",
       "    </tr>\n",
       "    <tr>\n",
       "      <th>mean</th>\n",
       "      <td>15.131890</td>\n",
       "      <td>8.45748</td>\n",
       "      <td>2.077677</td>\n",
       "      <td>59886.072669</td>\n",
       "    </tr>\n",
       "    <tr>\n",
       "      <th>std</th>\n",
       "      <td>1.955256</td>\n",
       "      <td>5.56693</td>\n",
       "      <td>0.808377</td>\n",
       "      <td>37323.784300</td>\n",
       "    </tr>\n",
       "    <tr>\n",
       "      <th>min</th>\n",
       "      <td>10.100000</td>\n",
       "      <td>1.00000</td>\n",
       "      <td>0.000200</td>\n",
       "      <td>9270.720000</td>\n",
       "    </tr>\n",
       "    <tr>\n",
       "      <th>25%</th>\n",
       "      <td>14.000000</td>\n",
       "      <td>4.00000</td>\n",
       "      <td>1.500000</td>\n",
       "      <td>31914.720000</td>\n",
       "    </tr>\n",
       "    <tr>\n",
       "      <th>50%</th>\n",
       "      <td>15.600000</td>\n",
       "      <td>8.00000</td>\n",
       "      <td>2.040000</td>\n",
       "      <td>52054.560000</td>\n",
       "    </tr>\n",
       "    <tr>\n",
       "      <th>75%</th>\n",
       "      <td>15.600000</td>\n",
       "      <td>8.00000</td>\n",
       "      <td>2.320000</td>\n",
       "      <td>79303.816800</td>\n",
       "    </tr>\n",
       "    <tr>\n",
       "      <th>max</th>\n",
       "      <td>35.600000</td>\n",
       "      <td>64.00000</td>\n",
       "      <td>11.100000</td>\n",
       "      <td>324954.720000</td>\n",
       "    </tr>\n",
       "  </tbody>\n",
       "</table>\n",
       "</div>"
      ],
      "text/plain": [
       "            Inches         Ram       Weight          Price\n",
       "count  1270.000000  1270.00000  1270.000000    1270.000000\n",
       "mean     15.131890     8.45748     2.077677   59886.072669\n",
       "std       1.955256     5.56693     0.808377   37323.784300\n",
       "min      10.100000     1.00000     0.000200    9270.720000\n",
       "25%      14.000000     4.00000     1.500000   31914.720000\n",
       "50%      15.600000     8.00000     2.040000   52054.560000\n",
       "75%      15.600000     8.00000     2.320000   79303.816800\n",
       "max      35.600000    64.00000    11.100000  324954.720000"
      ]
     },
     "execution_count": 18,
     "metadata": {},
     "output_type": "execute_result"
    }
   ],
   "source": [
    "df2.describe()"
   ]
  },
  {
   "cell_type": "code",
   "execution_count": 19,
   "id": "ce354604",
   "metadata": {},
   "outputs": [
    {
     "data": {
      "text/plain": [
       "<AxesSubplot:>"
      ]
     },
     "execution_count": 19,
     "metadata": {},
     "output_type": "execute_result"
    },
    {
     "data": {
      "image/png": "[encoded data removed]",
      "text/plain": [
       "<Figure size 2880x1080 with 1 Axes>"
      ]
     },
     "metadata": {
      "needs_background": "light"
     },
     "output_type": "display_data"
    }
   ],
   "source": [
    "plt.figure(figsize=(40,15))\n",
    "sns.boxplot(data=df2,fliersize=10)"
   ]
  },
  {
   "cell_type": "code",
   "execution_count": 20,
   "id": "ff6d7466",
   "metadata": {},
   "outputs": [
    {
     "data": {
      "text/plain": [
       "<AxesSubplot:ylabel='Count'>"
      ]
     },
     "execution_count": 20,
     "metadata": {},
     "output_type": "execute_result"
    },
    {
     "data": {
      "image/png": "[encoded data removed]",
      "text/plain": [
       "<Figure size 2880x1080 with 1 Axes>"
      ]
     },
     "metadata": {
      "needs_background": "light"
     },
     "output_type": "display_data"
    }
   ],
   "source": [
    "plt.figure(figsize=(40,15))\n",
    "sns.histplot(data=df2)"
   ]
  },
  {
   "cell_type": "code",
   "execution_count": 21,
   "id": "9324d054",
   "metadata": {},
   "outputs": [
    {
     "name": "stdout",
     "output_type": "stream",
     "text": [
      "47389.0968\n"
     ]
    }
   ],
   "source": [
    "Q3=df2['Price'].quantile(0.75)\n",
    "Q1=df2['Price'].quantile(0.25)\n",
    "IQR=Q3-Q1\n",
    "print(IQR)"
   ]
  },
  {
   "cell_type": "code",
   "execution_count": 22,
   "id": "eb240fc4",
   "metadata": {},
   "outputs": [
    {
     "name": "stdout",
     "output_type": "stream",
     "text": [
      "150387.462 -39168.9252\n"
     ]
    }
   ],
   "source": [
    "upper=Q3+(1.5*IQR)\n",
    "lower=Q1-(1.5*IQR)\n",
    "print(upper,lower)"
   ]
  },
  {
   "cell_type": "code",
   "execution_count": 23,
   "id": "66b6d6e4",
   "metadata": {},
   "outputs": [
    {
     "name": "stdout",
     "output_type": "stream",
     "text": [
      "count      1242.000000\n",
      "mean      57031.181832\n",
      "std       31820.724320\n",
      "min        9270.720000\n",
      "25%       31844.257200\n",
      "50%       50616.000000\n",
      "75%       76026.031200\n",
      "max      149916.600000\n",
      "Name: Price, dtype: float64\n"
     ]
    }
   ],
   "source": [
    "df3=df2.copy()\n",
    "df3=df2[(df2['Price']>lower)&(df2['Price']<upper)]\n",
    "print(df3['Price'].describe())"
   ]
  },
  {
   "cell_type": "code",
   "execution_count": 24,
   "id": "872c5f2e",
   "metadata": {},
   "outputs": [
    {
     "data": {
      "text/plain": [
       "<AxesSubplot:>"
      ]
     },
     "execution_count": 24,
     "metadata": {},
     "output_type": "execute_result"
    },
    {
     "data": {
      "image/png": "[encoded data removed]",
      "text/plain": [
       "<Figure size 2880x1080 with 1 Axes>"
      ]
     },
     "metadata": {
      "needs_background": "light"
     },
     "output_type": "display_data"
    }
   ],
   "source": [
    "plt.figure(figsize=(40,15))\n",
    "sns.boxplot(data=df3,fliersize=10)"
   ]
  },
  {
   "cell_type": "code",
   "execution_count": 25,
   "id": "4462bd91",
   "metadata": {},
   "outputs": [
    {
     "data": {
      "text/plain": [
       "['Inches', 'Ram', 'Weight', 'Price']"
      ]
     },
     "execution_count": 25,
     "metadata": {},
     "output_type": "execute_result"
    }
   ],
   "source": [
    "numerical = [var for var in df3.columns if df3[var].dtype!='O']\n",
    "numerical"
   ]
  },
  {
   "cell_type": "code",
   "execution_count": 26,
   "id": "0a9f3058",
   "metadata": {},
   "outputs": [
    {
     "data": {
      "text/plain": [
       "['Company', 'TypeName', 'ScreenResolution', 'Cpu', 'Memory', 'Gpu', 'OpSys']"
      ]
     },
     "execution_count": 26,
     "metadata": {},
     "output_type": "execute_result"
    }
   ],
   "source": [
    "categorical = [var for var in df3.columns if df3[var].dtype=='O']\n",
    "categorical"
   ]
  },
  {
   "cell_type": "code",
   "execution_count": 27,
   "id": "a700aef5",
   "metadata": {},
   "outputs": [
    {
     "name": "stdout",
     "output_type": "stream",
     "text": [
      "Company  contains  19  labels\n",
      "TypeName  contains  6  labels\n",
      "ScreenResolution  contains  40  labels\n",
      "Cpu  contains  115  labels\n",
      "Memory  contains  36  labels\n",
      "Gpu  contains  102  labels\n",
      "OpSys  contains  9  labels\n"
     ]
    }
   ],
   "source": [
    "for var in categorical:\n",
    "\n",
    "    print(var, ' contains ', len(df3[var].unique()), ' labels')"
   ]
  },
  {
   "cell_type": "code",
   "execution_count": 28,
   "id": "ac744d2e",
   "metadata": {},
   "outputs": [],
   "source": [
    "data=df3.copy()"
   ]
  },
  {
   "cell_type": "code",
   "execution_count": 29,
   "id": "c073385b",
   "metadata": {},
   "outputs": [],
   "source": [
    "#data1 = pd.concat([pd.get_dummies(df4.Company , drop_first=True),\n",
    "                 # pd.get_dummies(df4.TypeName, drop_first=True),\n",
    "                 # pd.get_dummies(df4.ScreenResolution, drop_first=True),\n",
    "                 # pd.get_dummies(df4.Cpu, drop_first=True),\n",
    "                 # pd.get_dummies(df4.Memory, drop_first=True),\n",
    "                 # pd.get_dummies(df4.Gpu, drop_first=True),\n",
    "                 # pd.get_dummies(df4.OpSys, drop_first=True),\n",
    "                 # df4[numerical]], axis=1)\n",
    "#data1"
   ]
  },
  {
   "cell_type": "code",
   "execution_count": 30,
   "id": "b0484e9a",
   "metadata": {},
   "outputs": [],
   "source": [
    "from sklearn.preprocessing import LabelEncoder\n",
    "encoder=LabelEncoder()\n",
    "data['Company']=encoder.fit_transform(data['Company'])\n",
    "data['TypeName']=encoder.fit_transform(data['TypeName'])\n",
    "data['ScreenResolution']=encoder.fit_transform(data['ScreenResolution'])\n",
    "data['Cpu']=encoder.fit_transform(data['Cpu'])\n",
    "#newdf['Ram']=encoder.fit_transform(newdf['Ram'])\n",
    "data['Memory']=encoder.fit_transform(data['Memory'])\n",
    "data['Gpu']=encoder.fit_transform(data['Gpu'])\n",
    "data['OpSys']=encoder.fit_transform(data['OpSys'])"
   ]
  },
  {
   "cell_type": "code",
   "execution_count": 31,
   "id": "afb5ee63",
   "metadata": {},
   "outputs": [
    {
     "data": {
      "text/html": [
       "<div>\n",
       "<style scoped>\n",
       "    .dataframe tbody tr th:only-of-type {\n",
       "        vertical-align: middle;\n",
       "    }\n",
       "\n",
       "    .dataframe tbody tr th {\n",
       "        vertical-align: top;\n",
       "    }\n",
       "\n",
       "    .dataframe thead th {\n",
       "        text-align: right;\n",
       "    }\n",
       "</style>\n",
       "<table border=\"1\" class=\"dataframe\">\n",
       "  <thead>\n",
       "    <tr style=\"text-align: right;\">\n",
       "      <th></th>\n",
       "      <th>Company</th>\n",
       "      <th>TypeName</th>\n",
       "      <th>Inches</th>\n",
       "      <th>ScreenResolution</th>\n",
       "      <th>Cpu</th>\n",
       "      <th>Ram</th>\n",
       "      <th>Memory</th>\n",
       "      <th>Gpu</th>\n",
       "      <th>OpSys</th>\n",
       "      <th>Weight</th>\n",
       "      <th>Price</th>\n",
       "    </tr>\n",
       "  </thead>\n",
       "  <tbody>\n",
       "    <tr>\n",
       "      <th>0</th>\n",
       "      <td>1</td>\n",
       "      <td>4</td>\n",
       "      <td>13.3</td>\n",
       "      <td>23</td>\n",
       "      <td>65</td>\n",
       "      <td>8</td>\n",
       "      <td>4</td>\n",
       "      <td>56</td>\n",
       "      <td>8</td>\n",
       "      <td>1.37</td>\n",
       "      <td>71378.6832</td>\n",
       "    </tr>\n",
       "    <tr>\n",
       "      <th>1</th>\n",
       "      <td>1</td>\n",
       "      <td>4</td>\n",
       "      <td>13.3</td>\n",
       "      <td>1</td>\n",
       "      <td>63</td>\n",
       "      <td>8</td>\n",
       "      <td>2</td>\n",
       "      <td>49</td>\n",
       "      <td>8</td>\n",
       "      <td>1.34</td>\n",
       "      <td>47895.5232</td>\n",
       "    </tr>\n",
       "    <tr>\n",
       "      <th>2</th>\n",
       "      <td>7</td>\n",
       "      <td>3</td>\n",
       "      <td>15.6</td>\n",
       "      <td>8</td>\n",
       "      <td>74</td>\n",
       "      <td>8</td>\n",
       "      <td>14</td>\n",
       "      <td>51</td>\n",
       "      <td>4</td>\n",
       "      <td>1.86</td>\n",
       "      <td>30636.0000</td>\n",
       "    </tr>\n",
       "    <tr>\n",
       "      <th>3</th>\n",
       "      <td>1</td>\n",
       "      <td>4</td>\n",
       "      <td>15.4</td>\n",
       "      <td>25</td>\n",
       "      <td>85</td>\n",
       "      <td>16</td>\n",
       "      <td>27</td>\n",
       "      <td>8</td>\n",
       "      <td>8</td>\n",
       "      <td>1.83</td>\n",
       "      <td>135195.3360</td>\n",
       "    </tr>\n",
       "    <tr>\n",
       "      <th>4</th>\n",
       "      <td>1</td>\n",
       "      <td>4</td>\n",
       "      <td>13.3</td>\n",
       "      <td>23</td>\n",
       "      <td>67</td>\n",
       "      <td>8</td>\n",
       "      <td>14</td>\n",
       "      <td>57</td>\n",
       "      <td>8</td>\n",
       "      <td>1.37</td>\n",
       "      <td>96095.8080</td>\n",
       "    </tr>\n",
       "  </tbody>\n",
       "</table>\n",
       "</div>"
      ],
      "text/plain": [
       "   Company  TypeName  Inches  ScreenResolution  Cpu  Ram  Memory  Gpu  OpSys  \\\n",
       "0        1         4    13.3                23   65    8       4   56      8   \n",
       "1        1         4    13.3                 1   63    8       2   49      8   \n",
       "2        7         3    15.6                 8   74    8      14   51      4   \n",
       "3        1         4    15.4                25   85   16      27    8      8   \n",
       "4        1         4    13.3                23   67    8      14   57      8   \n",
       "\n",
       "   Weight        Price  \n",
       "0    1.37   71378.6832  \n",
       "1    1.34   47895.5232  \n",
       "2    1.86   30636.0000  \n",
       "3    1.83  135195.3360  \n",
       "4    1.37   96095.8080  "
      ]
     },
     "execution_count": 31,
     "metadata": {},
     "output_type": "execute_result"
    }
   ],
   "source": [
    "data.head()"
   ]
  },
  {
   "cell_type": "code",
   "execution_count": 32,
   "id": "662ec0dd",
   "metadata": {},
   "outputs": [],
   "source": [
    "x=data.drop('Price',axis=1)\n",
    "y=data['Price']"
   ]
  },
  {
   "cell_type": "code",
   "execution_count": 33,
   "id": "057e14d0",
   "metadata": {},
   "outputs": [
    {
     "data": {
      "text/html": [
       "<div>\n",
       "<style scoped>\n",
       "    .dataframe tbody tr th:only-of-type {\n",
       "        vertical-align: middle;\n",
       "    }\n",
       "\n",
       "    .dataframe tbody tr th {\n",
       "        vertical-align: top;\n",
       "    }\n",
       "\n",
       "    .dataframe thead th {\n",
       "        text-align: right;\n",
       "    }\n",
       "</style>\n",
       "<table border=\"1\" class=\"dataframe\">\n",
       "  <thead>\n",
       "    <tr style=\"text-align: right;\">\n",
       "      <th></th>\n",
       "      <th>Company</th>\n",
       "      <th>TypeName</th>\n",
       "      <th>Inches</th>\n",
       "      <th>ScreenResolution</th>\n",
       "      <th>Cpu</th>\n",
       "      <th>Ram</th>\n",
       "      <th>Memory</th>\n",
       "      <th>Gpu</th>\n",
       "      <th>OpSys</th>\n",
       "      <th>Weight</th>\n",
       "    </tr>\n",
       "  </thead>\n",
       "  <tbody>\n",
       "    <tr>\n",
       "      <th>0</th>\n",
       "      <td>0.055556</td>\n",
       "      <td>0.8</td>\n",
       "      <td>0.125490</td>\n",
       "      <td>0.589744</td>\n",
       "      <td>0.570175</td>\n",
       "      <td>0.111111</td>\n",
       "      <td>0.114286</td>\n",
       "      <td>0.554455</td>\n",
       "      <td>1.0</td>\n",
       "      <td>0.123408</td>\n",
       "    </tr>\n",
       "    <tr>\n",
       "      <th>1</th>\n",
       "      <td>0.055556</td>\n",
       "      <td>0.8</td>\n",
       "      <td>0.125490</td>\n",
       "      <td>0.025641</td>\n",
       "      <td>0.552632</td>\n",
       "      <td>0.111111</td>\n",
       "      <td>0.057143</td>\n",
       "      <td>0.485149</td>\n",
       "      <td>1.0</td>\n",
       "      <td>0.120705</td>\n",
       "    </tr>\n",
       "    <tr>\n",
       "      <th>2</th>\n",
       "      <td>0.388889</td>\n",
       "      <td>0.6</td>\n",
       "      <td>0.215686</td>\n",
       "      <td>0.205128</td>\n",
       "      <td>0.649123</td>\n",
       "      <td>0.111111</td>\n",
       "      <td>0.400000</td>\n",
       "      <td>0.504950</td>\n",
       "      <td>0.5</td>\n",
       "      <td>0.167553</td>\n",
       "    </tr>\n",
       "    <tr>\n",
       "      <th>3</th>\n",
       "      <td>0.055556</td>\n",
       "      <td>0.8</td>\n",
       "      <td>0.207843</td>\n",
       "      <td>0.641026</td>\n",
       "      <td>0.745614</td>\n",
       "      <td>0.238095</td>\n",
       "      <td>0.771429</td>\n",
       "      <td>0.079208</td>\n",
       "      <td>1.0</td>\n",
       "      <td>0.164850</td>\n",
       "    </tr>\n",
       "    <tr>\n",
       "      <th>4</th>\n",
       "      <td>0.055556</td>\n",
       "      <td>0.8</td>\n",
       "      <td>0.125490</td>\n",
       "      <td>0.589744</td>\n",
       "      <td>0.587719</td>\n",
       "      <td>0.111111</td>\n",
       "      <td>0.400000</td>\n",
       "      <td>0.564356</td>\n",
       "      <td>1.0</td>\n",
       "      <td>0.123408</td>\n",
       "    </tr>\n",
       "  </tbody>\n",
       "</table>\n",
       "</div>"
      ],
      "text/plain": [
       "    Company  TypeName    Inches  ScreenResolution       Cpu       Ram  \\\n",
       "0  0.055556       0.8  0.125490          0.589744  0.570175  0.111111   \n",
       "1  0.055556       0.8  0.125490          0.025641  0.552632  0.111111   \n",
       "2  0.388889       0.6  0.215686          0.205128  0.649123  0.111111   \n",
       "3  0.055556       0.8  0.207843          0.641026  0.745614  0.238095   \n",
       "4  0.055556       0.8  0.125490          0.589744  0.587719  0.111111   \n",
       "\n",
       "     Memory       Gpu  OpSys    Weight  \n",
       "0  0.114286  0.554455    1.0  0.123408  \n",
       "1  0.057143  0.485149    1.0  0.120705  \n",
       "2  0.400000  0.504950    0.5  0.167553  \n",
       "3  0.771429  0.079208    1.0  0.164850  \n",
       "4  0.400000  0.564356    1.0  0.123408  "
      ]
     },
     "execution_count": 33,
     "metadata": {},
     "output_type": "execute_result"
    }
   ],
   "source": [
    "mms=MinMaxScaler()\n",
    "x_scaled=mms.fit_transform(x)\n",
    "#x_test=mms.transform(x_test)\n",
    "x_scaled = pd.DataFrame(x_scaled, columns=x.columns)\n",
    "#x_test = pd.DataFrame(x_test, columns=x.columns)\n",
    "x_scaled.head()"
   ]
  },
  {
   "cell_type": "code",
   "execution_count": 34,
   "id": "ff8dd689",
   "metadata": {},
   "outputs": [
    {
     "data": {
      "text/plain": [
       "(1242,)"
      ]
     },
     "execution_count": 34,
     "metadata": {},
     "output_type": "execute_result"
    }
   ],
   "source": [
    "y_scaled=mms.fit_transform(np.array(y).reshape(-1,1)).flatten()\n",
    "y_scaled.shape"
   ]
  },
  {
   "cell_type": "code",
   "execution_count": 35,
   "id": "c5cb1889",
   "metadata": {},
   "outputs": [],
   "source": [
    "#from sklearn.feature_selection import SelectKBest, f_regression\n",
    "#from sklearn.feature_selection import SelectPercentile , f_regression\n",
    "#select_percentile=SelectPercentile(score_func=f_regression,percentile=100)\n",
    "#x_new=select_percentile.fit_transform(x_scaled,y)\n",
    "#print(x_new.shape)\n",
    "#print(x.columns[select_percentile.get_support()].tolist())\n",
    "#x=x_new"
   ]
  },
  {
   "cell_type": "code",
   "execution_count": 36,
   "id": "94ea8286",
   "metadata": {},
   "outputs": [],
   "source": [
    "x_train,x_test,y_train,y_test=train_test_split( x_scaled , y_scaled ,test_size=0.2 , random_state=0)"
   ]
  },
  {
   "cell_type": "code",
   "execution_count": 37,
   "id": "bc7e366b",
   "metadata": {},
   "outputs": [
    {
     "data": {
      "text/plain": [
       "((993, 10), (249, 10))"
      ]
     },
     "execution_count": 37,
     "metadata": {},
     "output_type": "execute_result"
    }
   ],
   "source": [
    "x_train.shape, x_test.shape"
   ]
  },
  {
   "cell_type": "code",
   "execution_count": 38,
   "id": "6626c3c0",
   "metadata": {},
   "outputs": [
    {
     "name": "stdout",
     "output_type": "stream",
     "text": [
      "Fitting 5 folds for each of 1 candidates, totalling 5 fits\n",
      "LinearRegression() \n",
      " 0.14416206186362296 \n",
      " 2 LinearRegression()\n",
      "Fitting 5 folds for each of 1 candidates, totalling 5 fits\n",
      "DecisionTreeRegressor() \n",
      " 0.12485167766909122 \n",
      " 1 DecisionTreeRegressor()\n",
      "Fitting 5 folds for each of 1 candidates, totalling 5 fits\n",
      "RandomForestRegressor() \n",
      " 0.09341707944516256 \n",
      " 2 RandomForestRegressor()\n",
      "Fitting 5 folds for each of 1 candidates, totalling 5 fits\n",
      "SVR() \n",
      " 0.11850299022170137 \n",
      " 0 SVR()\n",
      "Fitting 5 folds for each of 1 candidates, totalling 5 fits\n",
      "XGBRegressor(base_score=None, booster=None, callbacks=None,\n",
      "             colsample_bylevel=None, colsample_bynode=None,\n",
      "             colsample_bytree=None, device=None, early_stopping_rounds=None,\n",
      "             enable_categorical=False, eval_metric=None, feature_types=None,\n",
      "             gamma=None, grow_policy=None, importance_type=None,\n",
      "             interaction_constraints=None, learning_rate=None, max_bin=None,\n",
      "             max_cat_threshold=None, max_cat_to_onehot=None,\n",
      "             max_delta_step=None, max_depth=None, max_leaves=None,\n",
      "             min_child_weight=None, missing=nan, monotone_constraints=None,\n",
      "             multi_strategy=None, n_estimators=None, n_jobs=None,\n",
      "             num_parallel_tree=None, random_state=None, ...) \n",
      " 0.0912066936029441 \n",
      " 0 XGBRegressor(base_score=None, booster=None, callbacks=None,\n",
      "             colsample_bylevel=None, colsample_bynode=None,\n",
      "             colsample_bytree=None, device=None, early_stopping_rounds=None,\n",
      "             enable_categorical=False, eval_metric=None, feature_types=None,\n",
      "             gamma=None, grow_policy=None, importance_type=None,\n",
      "             interaction_constraints=None, learning_rate=None, max_bin=None,\n",
      "             max_cat_threshold=None, max_cat_to_onehot=None,\n",
      "             max_delta_step=None, max_depth=None, max_leaves=None,\n",
      "             min_child_weight=None, missing=nan, monotone_constraints=None,\n",
      "             multi_strategy=None, n_estimators=None, n_jobs=None,\n",
      "             num_parallel_tree=None, random_state=None, ...)\n",
      "Fitting 5 folds for each of 1 candidates, totalling 5 fits\n",
      "AdaBoostRegressor() \n",
      " 0.12855562096806494 \n",
      " 0 AdaBoostRegressor()\n"
     ]
    }
   ],
   "source": [
    "lr=LinearRegression()\n",
    "dt=DecisionTreeRegressor()\n",
    "rf=RandomForestRegressor()\n",
    "svm=SVR()\n",
    "xgb=XGBRegressor()\n",
    "adab=AdaBoostRegressor()\n",
    "class_list=[lr, dt,rf,svm,xgb,adab]\n",
    "for model in class_list:\n",
    "        start = time.time()\n",
    "        grid = GridSearchCV(estimator=model, param_grid={}, scoring='neg_root_mean_squared_error', cv=5, n_jobs=-1,verbose=3)\n",
    "        grid.fit(x_train, y_train)\n",
    "        end = time.time()\n",
    "        print(model, '\\n', -grid.best_score_,'\\n', round(end-start),grid.best_estimator_)"
   ]
  },
  {
   "cell_type": "code",
   "execution_count": 39,
   "id": "b89e0548",
   "metadata": {},
   "outputs": [
    {
     "name": "stdout",
     "output_type": "stream",
     "text": [
      "10\n",
      "mean_absolute_error = 0.06499587539410107\n",
      "mean_squared_error = 0.008903128717463507\n",
      "root_mean_squared_error = 0.09435639203288512\n",
      "accuracy = 0.8416865011519468\n"
     ]
    }
   ],
   "source": [
    "from sklearn.feature_selection import RFE,RFECV\n",
    "rf=XGBRegressor()\n",
    "rfe=RFECV(estimator=rf,step=20)\n",
    "rfe=rfe.fit(x_train,y_train)\n",
    "final_predict=rfe.predict(x_test)\n",
    "\n",
    "print(rfe.n_features_)\n",
    "mae = mean_absolute_error(y_test, final_predict)\n",
    "mse = mean_squared_error(y_test, final_predict)\n",
    "rmse = np.sqrt(mse)\n",
    "r2 = r2_score(y_test, final_predict)\n",
    "\n",
    "print('mean_absolute_error =',mae)\n",
    "print('mean_squared_error =',mse)\n",
    "print('root_mean_squared_error =',rmse)\n",
    "print('accuracy =',r2)\n",
    "#select_percentile=SelectPercentile(score_func=f_regression,percentile=100)\n",
    "#x_new=select_percentile.fit_transform(x_scaled,y)\n",
    "#print(x_new.shape)\n",
    "#print(x.columns[select_percentile.get_support()].tolist())\n",
    "#x=x_new\n",
    "\n"
   ]
  },
  {
   "cell_type": "code",
   "execution_count": 40,
   "id": "d7c9be0a",
   "metadata": {},
   "outputs": [
    {
     "name": "stdout",
     "output_type": "stream",
     "text": [
      "predicted: 48948.46 , Actual: 32767.20\n",
      "predicted: 37268.27 , Actual: 34045.39\n",
      "predicted: 73565.87 , Actual: 53274.67\n",
      "predicted: 94742.34 , Actual: 95371.20\n",
      "predicted: 75399.34 , Actual: 52161.12\n"
     ]
    }
   ],
   "source": [
    "y_pred_original=mms.inverse_transform(final_predict.reshape(-1, 1)).flatten()\n",
    "y_test_original=mms.inverse_transform(y_test.reshape(-1, 1)).flatten()\n",
    "\n",
    "for i in range(5):\n",
    "    print(f\"predicted: {y_pred_original[i]:.2f} , Actual: {y_test_original[i]:.2f}\")"
   ]
  },
  {
   "cell_type": "code",
   "execution_count": 41,
   "id": "aaf1791f",
   "metadata": {},
   "outputs": [
    {
     "data": {
      "text/plain": [
       "0.360037349892039"
      ]
     },
     "execution_count": 41,
     "metadata": {},
     "output_type": "execute_result"
    }
   ],
   "source": [
    "np.mean(y_test)\n"
   ]
  },
  {
   "cell_type": "code",
   "execution_count": 42,
   "id": "1a4fe491",
   "metadata": {},
   "outputs": [
    {
     "data": {
      "text/plain": [
       "0.358006"
      ]
     },
     "execution_count": 42,
     "metadata": {},
     "output_type": "execute_result"
    }
   ],
   "source": [
    "np.mean(final_predict)"
   ]
  },
  {
   "cell_type": "code",
   "execution_count": 43,
   "id": "9187980b",
   "metadata": {},
   "outputs": [
    {
     "name": "stdout",
     "output_type": "stream",
     "text": [
      "mean_absolute_error = 0.11285884356901853\n",
      "mean_squared_error = 0.025156249120672866\n",
      "root_mean_squared_error = 0.15860721648359152\n",
      "accuracy = 0.5526770484206123\n"
     ]
    }
   ],
   "source": [
    "model=LinearRegression()\n",
    "model.fit(x_train,y_train)\n",
    "final_predict=model.predict(x_test)\n",
    "\n",
    "\n",
    "#cv_lr=GridSearchCV(model,param_grid={},scoring='neg_mean_squared_error',n_jobs=-1,cv=5)\n",
    "#model.fit(x_train,y_train)\n",
    "#cv_lr.fit(x_train, y_train)\n",
    "\n",
    "# Get the best estimator\n",
    "#best_lr = cv_lr.best_estimator_\n",
    "#final_predict=model.predict(x_test)\n",
    "#final_predict = best_lr.predict(x_test)\n",
    "#submission = pd.DataFrame( {'SalePrice': final_predict})\n",
    "#print(submission)\n",
    "\n",
    "\n",
    "mae = mean_absolute_error(y_test, final_predict)\n",
    "mse = mean_squared_error(y_test, final_predict)\n",
    "rmse = np.sqrt(mse)\n",
    "r2 = r2_score(y_test, final_predict)\n",
    "\n",
    "print('mean_absolute_error =',mae)\n",
    "print('mean_squared_error =',mse)\n",
    "print('root_mean_squared_error =',rmse)\n",
    "print('accuracy =',r2)"
   ]
  },
  {
   "cell_type": "code",
   "execution_count": 44,
   "id": "7b09601c",
   "metadata": {},
   "outputs": [
    {
     "name": "stdout",
     "output_type": "stream",
     "text": [
      "predicted: 50684.67 , Actual: 32767.20\n",
      "predicted: 43010.66 , Actual: 34045.39\n",
      "predicted: 70998.76 , Actual: 53274.67\n",
      "predicted: 75157.77 , Actual: 95371.20\n",
      "predicted: 59786.04 , Actual: 52161.12\n"
     ]
    }
   ],
   "source": [
    "y_pred_original=mms.inverse_transform(final_predict.reshape(-1, 1)).flatten()\n",
    "y_test_original=mms.inverse_transform(y_test.reshape(-1, 1)).flatten()\n",
    "\n",
    "for i in range(5):\n",
    "    print(f\"predicted: {y_pred_original[i]:.2f} , Actual: {y_test_original[i]:.2f}\")"
   ]
  },
  {
   "cell_type": "code",
   "execution_count": 45,
   "id": "d9dc238a",
   "metadata": {},
   "outputs": [
    {
     "name": "stdout",
     "output_type": "stream",
     "text": [
      "mean_absolute_error = 0.06586200213786565\n",
      "mean_squared_error = 0.009234077476281959\n",
      "root_mean_squared_error = 0.09609410739624963\n",
      "accuracy = 0.8358016422882083\n"
     ]
    }
   ],
   "source": [
    "model=RandomForestRegressor(max_depth=25) \n",
    "model.fit(x_train,y_train)\n",
    "final_predict=model.predict(x_test)\n",
    "#submission = pd.DataFrame( {'SalePrice': final_predict})\n",
    "#submission\n",
    "#cv_rf=GridSearchCV(model,param_grid={},scoring='neg_mean_squared_error',n_jobs=-1,cv=5)\n",
    "#model.fit(x_train,y_train)\n",
    "#cv_rf.fit(x_train, y_train)\n",
    "\n",
    "# Get the best estimator\n",
    "#best_rf = cv_rf.best_estimator_\n",
    "#final_predict=model.predict(x_test)\n",
    "#final_predict = best_rf.predict(x_test)\n",
    "#submission = pd.DataFrame( {'SalePrice': final_predict})\n",
    "#print(submission)\n",
    "\n",
    "mae = mean_absolute_error(y_test, final_predict)\n",
    "mse = mean_squared_error(y_test, final_predict)\n",
    "rmse = np.sqrt(mse)\n",
    "r2 = r2_score(y_test, final_predict)\n",
    "\n",
    "print('mean_absolute_error =',mae)\n",
    "print('mean_squared_error =',mse)\n",
    "print('root_mean_squared_error =',rmse)\n",
    "print('accuracy =',r2)"
   ]
  },
  {
   "cell_type": "code",
   "execution_count": 46,
   "id": "3c9b7d90",
   "metadata": {},
   "outputs": [
    {
     "name": "stdout",
     "output_type": "stream",
     "text": [
      "predicted: 43630.49 , Actual: 32767.20\n",
      "predicted: 39924.09 , Actual: 34045.39\n",
      "predicted: 62457.93 , Actual: 53274.67\n",
      "predicted: 93403.24 , Actual: 95371.20\n",
      "predicted: 76582.49 , Actual: 52161.12\n"
     ]
    }
   ],
   "source": [
    "y_pred_original=mms.inverse_transform(final_predict.reshape(-1, 1)).flatten()\n",
    "y_test_original=mms.inverse_transform(y_test.reshape(-1, 1)).flatten()\n",
    "\n",
    "for i in range(5):\n",
    "    print(f\"predicted: {y_pred_original[i]:.2f} , Actual: {y_test_original[i]:.2f}\")"
   ]
  },
  {
   "cell_type": "code",
   "execution_count": 47,
   "id": "ec76ff7b",
   "metadata": {},
   "outputs": [],
   "source": [
    "#scores=cross_val_score(model,x,y,cv=6)\n",
    "#np.mean(scores)"
   ]
  },
  {
   "cell_type": "code",
   "execution_count": 48,
   "id": "fae09fd2",
   "metadata": {},
   "outputs": [
    {
     "name": "stdout",
     "output_type": "stream",
     "text": [
      "mean_absolute_error = 0.08323068452108143\n",
      "mean_squared_error = 0.014675631357151747\n",
      "root_mean_squared_error = 0.1211430202576762\n",
      "accuracy = 0.739041114457029\n"
     ]
    }
   ],
   "source": [
    "model=DecisionTreeRegressor(max_depth=20)\n",
    "model.fit(x_train,y_train)\n",
    "final_predict=model.predict(x_test)\n",
    "\n",
    "#cv_dt=GridSearchCV(model,param_grid={},scoring='neg_mean_squared_error',n_jobs=-1,cv=5)\n",
    "#model.fit(x_train,y_train)\n",
    "#cv_dt.fit(x_train, y_train)\n",
    "\n",
    "# Get the best estimator\n",
    "#best_dt = cv_dt.best_estimator_\n",
    "#final_predict=model.predict(x_test)\n",
    "#final_predict = best_dt.predict(x_test)\n",
    "#submission = pd.DataFrame( {'SalePrice': final_predict})\n",
    "#submission\n",
    "\n",
    "\n",
    "mae = mean_absolute_error(y_test, final_predict)\n",
    "mse = mean_squared_error(y_test, final_predict)\n",
    "rmse = np.sqrt(mse)\n",
    "r2 = r2_score(y_test, final_predict)\n",
    "\n",
    "print('mean_absolute_error =',mae)\n",
    "print('mean_squared_error =',mse)\n",
    "print('root_mean_squared_error =',rmse)\n",
    "print('accuracy =',r2)"
   ]
  },
  {
   "cell_type": "code",
   "execution_count": 49,
   "id": "e117c3c8",
   "metadata": {},
   "outputs": [
    {
     "name": "stdout",
     "output_type": "stream",
     "text": [
      "predicted: 41292.00 , Actual: 32767.20\n",
      "predicted: 41771.52 , Actual: 34045.39\n",
      "predicted: 49816.80 , Actual: 53274.67\n",
      "predicted: 121584.96 , Actual: 95371.20\n",
      "predicted: 85194.72 , Actual: 52161.12\n"
     ]
    }
   ],
   "source": [
    "y_pred_original=mms.inverse_transform(final_predict.reshape(-1, 1)).flatten()\n",
    "y_test_original=mms.inverse_transform(y_test.reshape(-1, 1)).flatten()\n",
    "\n",
    "for i in range(5):\n",
    "    print(f\"predicted: {y_pred_original[i]:.2f} , Actual: {y_test_original[i]:.2f}\")"
   ]
  },
  {
   "cell_type": "code",
   "execution_count": 50,
   "id": "cceb90c9",
   "metadata": {},
   "outputs": [
    {
     "name": "stdout",
     "output_type": "stream",
     "text": [
      "mean_absolute_error = 0.11371373002106189\n",
      "mean_squared_error = 0.0184149577534478\n",
      "root_mean_squared_error = 0.13570172347265086\n",
      "accuracy = 0.6725492256032457\n"
     ]
    }
   ],
   "source": [
    "model=AdaBoostRegressor()\n",
    "model.fit(x_train,y_train)\n",
    "final_predict=model.predict(x_test)\n",
    "\n",
    "#cv_adaboost=GridSearchCV(model,param_grid={},scoring='neg_mean_squared_error',n_jobs=-1,cv=5)\n",
    "#model.fit(x_train,y_train)\n",
    "#cv_adaboost.fit(x_train, y_train)\n",
    "\n",
    "# Get the best estimator\n",
    "#best_adaboost = cv_adaboost.best_estimator_\n",
    "#final_predict=model.predict(x_test)\n",
    "#final_predict = best_adaboost.predict(x_test)\n",
    "#submission = pd.DataFrame( {'SalePrice': final_predict})\n",
    "#print(submission)\n",
    "\n",
    "mae = mean_absolute_error(y_test, final_predict)\n",
    "mse = mean_squared_error(y_test, final_predict)\n",
    "rmse = np.sqrt(mse)\n",
    "r2 = r2_score(y_test, final_predict)\n",
    "\n",
    "print('mean_absolute_error =',mae)\n",
    "print('mean_squared_error =',mse)\n",
    "print('root_mean_squared_error =',rmse)\n",
    "print('accuracy =',r2)"
   ]
  },
  {
   "cell_type": "code",
   "execution_count": 51,
   "id": "948043d1",
   "metadata": {},
   "outputs": [
    {
     "name": "stdout",
     "output_type": "stream",
     "text": [
      "predicted: 55498.34 , Actual: 32767.20\n",
      "predicted: 53157.45 , Actual: 34045.39\n",
      "predicted: 78985.25 , Actual: 53274.67\n",
      "predicted: 91926.84 , Actual: 95371.20\n",
      "predicted: 78985.25 , Actual: 52161.12\n"
     ]
    }
   ],
   "source": [
    "y_pred_original=mms.inverse_transform(final_predict.reshape(-1, 1)).flatten()\n",
    "y_test_original=mms.inverse_transform(y_test.reshape(-1, 1)).flatten()\n",
    "\n",
    "for i in range(5):\n",
    "    print(f\"predicted: {y_pred_original[i]:.2f} , Actual: {y_test_original[i]:.2f}\")"
   ]
  },
  {
   "cell_type": "code",
   "execution_count": 52,
   "id": "0ae5982f",
   "metadata": {},
   "outputs": [
    {
     "name": "stdout",
     "output_type": "stream",
     "text": [
      "mean_absolute_error = 0.09131984132139416\n",
      "mean_squared_error = 0.014078798781660266\n",
      "root_mean_squared_error = 0.11865411405282274\n",
      "accuracy = 0.7496538615317978\n"
     ]
    }
   ],
   "source": [
    "model=SVR()\n",
    "model.fit(x_train,y_train)\n",
    "final_predict=model.predict(x_test)\n",
    "\n",
    "#cv_svr=GridSearchCV(model,param_grid={},scoring='neg_mean_squared_error',n_jobs=-1,cv=5)\n",
    "#model.fit(x_train,y_train)\n",
    "#cv_svr.fit(x_train, y_train)\n",
    "\n",
    "# Get the best estimator\n",
    "#best_svr = cv_svr.best_estimator_\n",
    "#final_predict=model.predict(x_test)\n",
    "#final_predict = best_svr.predict(x_test)\n",
    "#submission = pd.DataFrame( {'SalePrice': final_predict})\n",
    "#print(submission)\n",
    "\n",
    "mae = mean_absolute_error(y_test, final_predict)\n",
    "mse = mean_squared_error(y_test, final_predict)\n",
    "rmse = np.sqrt(mse)\n",
    "r2 = r2_score(y_test, final_predict)\n",
    "\n",
    "print('mean_absolute_error =',mae)\n",
    "print('mean_squared_error =',mse)\n",
    "print('root_mean_squared_error =',rmse)\n",
    "print('accuracy =',r2)"
   ]
  },
  {
   "cell_type": "code",
   "execution_count": 53,
   "id": "84726a85",
   "metadata": {},
   "outputs": [
    {
     "name": "stdout",
     "output_type": "stream",
     "text": [
      "predicted: 52418.71 , Actual: 32767.20\n",
      "predicted: 34473.30 , Actual: 34045.39\n",
      "predicted: 52421.27 , Actual: 53274.67\n",
      "predicted: 90516.15 , Actual: 95371.20\n",
      "predicted: 67008.87 , Actual: 52161.12\n"
     ]
    }
   ],
   "source": [
    "y_pred_original=mms.inverse_transform(final_predict.reshape(-1, 1)).flatten()\n",
    "y_test_original=mms.inverse_transform(y_test.reshape(-1, 1)).flatten()\n",
    "\n",
    "for i in range(5):\n",
    "    print(f\"predicted: {y_pred_original[i]:.2f} , Actual: {y_test_original[i]:.2f}\")"
   ]
  },
  {
   "cell_type": "code",
   "execution_count": 54,
   "id": "c3d212c0",
   "metadata": {},
   "outputs": [
    {
     "name": "stdout",
     "output_type": "stream",
     "text": [
      "Epoch 1/150\n",
      "25/25 [==============================] - 2s 13ms/step - loss: 0.0815 - val_loss: 0.0439\n",
      "Epoch 2/150\n",
      "25/25 [==============================] - 0s 4ms/step - loss: 0.0426 - val_loss: 0.0365\n",
      "Epoch 3/150\n",
      "25/25 [==============================] - 0s 4ms/step - loss: 0.0365 - val_loss: 0.0315\n",
      "Epoch 4/150\n",
      "25/25 [==============================] - 0s 4ms/step - loss: 0.0317 - val_loss: 0.0288\n",
      "Epoch 5/150\n",
      "25/25 [==============================] - 0s 3ms/step - loss: 0.0294 - val_loss: 0.0246\n",
      "Epoch 6/150\n",
      "25/25 [==============================] - 0s 3ms/step - loss: 0.0259 - val_loss: 0.0233\n",
      "Epoch 7/150\n",
      "25/25 [==============================] - 0s 3ms/step - loss: 0.0249 - val_loss: 0.0221\n",
      "Epoch 8/150\n",
      "25/25 [==============================] - 0s 3ms/step - loss: 0.0225 - val_loss: 0.0226\n",
      "Epoch 9/150\n",
      "25/25 [==============================] - 0s 3ms/step - loss: 0.0203 - val_loss: 0.0207\n",
      "Epoch 10/150\n",
      "25/25 [==============================] - 0s 3ms/step - loss: 0.0187 - val_loss: 0.0210\n",
      "Epoch 11/150\n",
      "25/25 [==============================] - 0s 3ms/step - loss: 0.0175 - val_loss: 0.0219\n",
      "Epoch 12/150\n",
      "25/25 [==============================] - 0s 4ms/step - loss: 0.0166 - val_loss: 0.0223\n",
      "Epoch 13/150\n",
      "25/25 [==============================] - 0s 4ms/step - loss: 0.0161 - val_loss: 0.0254\n",
      "Epoch 14/150\n",
      "25/25 [==============================] - 0s 3ms/step - loss: 0.0159 - val_loss: 0.0235\n",
      "Epoch 15/150\n",
      "25/25 [==============================] - 0s 4ms/step - loss: 0.0159 - val_loss: 0.0255\n",
      "Epoch 16/150\n",
      "25/25 [==============================] - 0s 4ms/step - loss: 0.0153 - val_loss: 0.0223\n",
      "Epoch 17/150\n",
      "25/25 [==============================] - 0s 4ms/step - loss: 0.0160 - val_loss: 0.0218\n",
      "Epoch 18/150\n",
      "25/25 [==============================] - 0s 4ms/step - loss: 0.0150 - val_loss: 0.0213\n",
      "Epoch 19/150\n",
      "25/25 [==============================] - 0s 4ms/step - loss: 0.0144 - val_loss: 0.0219\n",
      "Epoch 20/150\n",
      "25/25 [==============================] - 0s 4ms/step - loss: 0.0144 - val_loss: 0.0206\n",
      "Epoch 21/150\n",
      "25/25 [==============================] - 0s 4ms/step - loss: 0.0143 - val_loss: 0.0239\n",
      "Epoch 22/150\n",
      "25/25 [==============================] - 0s 4ms/step - loss: 0.0144 - val_loss: 0.0210\n",
      "Epoch 23/150\n",
      "25/25 [==============================] - 0s 4ms/step - loss: 0.0138 - val_loss: 0.0224\n",
      "Epoch 24/150\n",
      "25/25 [==============================] - 0s 4ms/step - loss: 0.0138 - val_loss: 0.0213\n",
      "Epoch 25/150\n",
      "25/25 [==============================] - 0s 4ms/step - loss: 0.0138 - val_loss: 0.0210\n",
      "Epoch 26/150\n",
      "25/25 [==============================] - 0s 4ms/step - loss: 0.0139 - val_loss: 0.0209\n",
      "Epoch 27/150\n",
      "25/25 [==============================] - 0s 4ms/step - loss: 0.0142 - val_loss: 0.0201\n",
      "Epoch 28/150\n",
      "25/25 [==============================] - 0s 4ms/step - loss: 0.0137 - val_loss: 0.0205\n",
      "Epoch 29/150\n",
      "25/25 [==============================] - 0s 3ms/step - loss: 0.0133 - val_loss: 0.0215\n",
      "Epoch 30/150\n",
      "25/25 [==============================] - 0s 3ms/step - loss: 0.0134 - val_loss: 0.0228\n",
      "Epoch 31/150\n",
      "25/25 [==============================] - 0s 3ms/step - loss: 0.0134 - val_loss: 0.0205\n",
      "Epoch 32/150\n",
      "25/25 [==============================] - 0s 3ms/step - loss: 0.0130 - val_loss: 0.0197\n",
      "Epoch 33/150\n",
      "25/25 [==============================] - 0s 4ms/step - loss: 0.0134 - val_loss: 0.0227\n",
      "Epoch 34/150\n",
      "25/25 [==============================] - 0s 5ms/step - loss: 0.0131 - val_loss: 0.0200\n",
      "Epoch 35/150\n",
      "25/25 [==============================] - 0s 4ms/step - loss: 0.0123 - val_loss: 0.0207\n",
      "Epoch 36/150\n",
      "25/25 [==============================] - 0s 4ms/step - loss: 0.0130 - val_loss: 0.0188\n",
      "Epoch 37/150\n",
      "25/25 [==============================] - 0s 4ms/step - loss: 0.0128 - val_loss: 0.0201\n",
      "Epoch 38/150\n",
      "25/25 [==============================] - 0s 3ms/step - loss: 0.0126 - val_loss: 0.0211\n",
      "Epoch 39/150\n",
      "25/25 [==============================] - 0s 3ms/step - loss: 0.0133 - val_loss: 0.0198\n",
      "Epoch 40/150\n",
      "25/25 [==============================] - 0s 3ms/step - loss: 0.0123 - val_loss: 0.0214\n",
      "Epoch 41/150\n",
      "25/25 [==============================] - 0s 4ms/step - loss: 0.0123 - val_loss: 0.0204\n",
      "Epoch 42/150\n",
      "25/25 [==============================] - 0s 3ms/step - loss: 0.0130 - val_loss: 0.0197\n",
      "Epoch 43/150\n",
      "25/25 [==============================] - 0s 4ms/step - loss: 0.0123 - val_loss: 0.0198\n",
      "Epoch 44/150\n",
      "25/25 [==============================] - 0s 3ms/step - loss: 0.0126 - val_loss: 0.0237\n",
      "Epoch 45/150\n",
      "25/25 [==============================] - 0s 3ms/step - loss: 0.0126 - val_loss: 0.0202\n",
      "Epoch 46/150\n",
      "25/25 [==============================] - 0s 3ms/step - loss: 0.0130 - val_loss: 0.0211\n",
      "Epoch 47/150\n",
      "25/25 [==============================] - 0s 4ms/step - loss: 0.0119 - val_loss: 0.0218\n",
      "Epoch 48/150\n",
      "25/25 [==============================] - 0s 4ms/step - loss: 0.0124 - val_loss: 0.0199\n",
      "Epoch 49/150\n",
      "25/25 [==============================] - 0s 3ms/step - loss: 0.0119 - val_loss: 0.0189\n",
      "Epoch 50/150\n",
      "25/25 [==============================] - 0s 4ms/step - loss: 0.0118 - val_loss: 0.0207\n",
      "Epoch 51/150\n",
      "25/25 [==============================] - 0s 4ms/step - loss: 0.0116 - val_loss: 0.0208\n",
      "Epoch 52/150\n",
      "25/25 [==============================] - 0s 4ms/step - loss: 0.0115 - val_loss: 0.0186\n",
      "Epoch 53/150\n",
      "25/25 [==============================] - 0s 3ms/step - loss: 0.0113 - val_loss: 0.0199\n",
      "Epoch 54/150\n",
      "25/25 [==============================] - 0s 3ms/step - loss: 0.0114 - val_loss: 0.0212\n",
      "Epoch 55/150\n",
      "25/25 [==============================] - 0s 3ms/step - loss: 0.0122 - val_loss: 0.0219\n",
      "Epoch 56/150\n",
      "25/25 [==============================] - 0s 3ms/step - loss: 0.0117 - val_loss: 0.0206\n",
      "Epoch 57/150\n",
      "25/25 [==============================] - 0s 3ms/step - loss: 0.0112 - val_loss: 0.0190\n",
      "Epoch 58/150\n",
      "25/25 [==============================] - 0s 3ms/step - loss: 0.0117 - val_loss: 0.0186\n",
      "Epoch 59/150\n",
      "25/25 [==============================] - 0s 3ms/step - loss: 0.0120 - val_loss: 0.0217\n",
      "Epoch 60/150\n",
      "25/25 [==============================] - 0s 3ms/step - loss: 0.0114 - val_loss: 0.0178\n",
      "Epoch 61/150\n",
      "25/25 [==============================] - 0s 3ms/step - loss: 0.0115 - val_loss: 0.0189\n",
      "Epoch 62/150\n",
      "25/25 [==============================] - 0s 3ms/step - loss: 0.0111 - val_loss: 0.0187\n",
      "Epoch 63/150\n",
      "25/25 [==============================] - 0s 3ms/step - loss: 0.0112 - val_loss: 0.0187\n",
      "Epoch 64/150\n",
      "25/25 [==============================] - 0s 3ms/step - loss: 0.0114 - val_loss: 0.0176\n",
      "Epoch 65/150\n",
      "25/25 [==============================] - 0s 3ms/step - loss: 0.0106 - val_loss: 0.0193\n",
      "Epoch 66/150\n",
      "25/25 [==============================] - 0s 3ms/step - loss: 0.0104 - val_loss: 0.0179\n",
      "Epoch 67/150\n",
      "25/25 [==============================] - 0s 3ms/step - loss: 0.0106 - val_loss: 0.0176\n",
      "Epoch 68/150\n",
      "25/25 [==============================] - 0s 3ms/step - loss: 0.0108 - val_loss: 0.0180\n",
      "Epoch 69/150\n",
      "25/25 [==============================] - 0s 3ms/step - loss: 0.0104 - val_loss: 0.0177\n",
      "Epoch 70/150\n",
      "25/25 [==============================] - 0s 3ms/step - loss: 0.0108 - val_loss: 0.0179\n",
      "Epoch 71/150\n",
      "25/25 [==============================] - 0s 4ms/step - loss: 0.0105 - val_loss: 0.0179\n",
      "Epoch 72/150\n",
      "25/25 [==============================] - 0s 3ms/step - loss: 0.0115 - val_loss: 0.0185\n",
      "Epoch 73/150\n",
      "25/25 [==============================] - 0s 3ms/step - loss: 0.0108 - val_loss: 0.0224\n",
      "Epoch 74/150\n",
      "25/25 [==============================] - 0s 3ms/step - loss: 0.0122 - val_loss: 0.0200\n",
      "Epoch 75/150\n",
      "25/25 [==============================] - 0s 3ms/step - loss: 0.0101 - val_loss: 0.0186\n",
      "Epoch 76/150\n",
      "25/25 [==============================] - 0s 3ms/step - loss: 0.0100 - val_loss: 0.0187\n",
      "Epoch 77/150\n",
      "25/25 [==============================] - 0s 3ms/step - loss: 0.0101 - val_loss: 0.0192\n",
      "Epoch 78/150\n",
      "25/25 [==============================] - 0s 3ms/step - loss: 0.0098 - val_loss: 0.0214\n",
      "Epoch 79/150\n",
      "25/25 [==============================] - 0s 3ms/step - loss: 0.0100 - val_loss: 0.0195\n",
      "Epoch 80/150\n",
      "25/25 [==============================] - 0s 3ms/step - loss: 0.0099 - val_loss: 0.0197\n",
      "Epoch 81/150\n",
      "25/25 [==============================] - 0s 3ms/step - loss: 0.0109 - val_loss: 0.0213\n",
      "Epoch 82/150\n",
      "25/25 [==============================] - 0s 3ms/step - loss: 0.0104 - val_loss: 0.0177\n",
      "Epoch 83/150\n"
     ]
    },
    {
     "name": "stdout",
     "output_type": "stream",
     "text": [
      "25/25 [==============================] - 0s 3ms/step - loss: 0.0098 - val_loss: 0.0187\n",
      "Epoch 84/150\n",
      "25/25 [==============================] - 0s 3ms/step - loss: 0.0096 - val_loss: 0.0178\n",
      "Epoch 85/150\n",
      "25/25 [==============================] - 0s 3ms/step - loss: 0.0093 - val_loss: 0.0169\n",
      "Epoch 86/150\n",
      "25/25 [==============================] - 0s 3ms/step - loss: 0.0093 - val_loss: 0.0168\n",
      "Epoch 87/150\n",
      "25/25 [==============================] - 0s 3ms/step - loss: 0.0098 - val_loss: 0.0175\n",
      "Epoch 88/150\n",
      "25/25 [==============================] - 0s 3ms/step - loss: 0.0099 - val_loss: 0.0206\n",
      "Epoch 89/150\n",
      "25/25 [==============================] - 0s 3ms/step - loss: 0.0098 - val_loss: 0.0187\n",
      "Epoch 90/150\n",
      "25/25 [==============================] - 0s 3ms/step - loss: 0.0093 - val_loss: 0.0177\n",
      "Epoch 91/150\n",
      "25/25 [==============================] - 0s 3ms/step - loss: 0.0089 - val_loss: 0.0183\n",
      "Epoch 92/150\n",
      "25/25 [==============================] - 0s 3ms/step - loss: 0.0091 - val_loss: 0.0183\n",
      "Epoch 93/150\n",
      "25/25 [==============================] - 0s 3ms/step - loss: 0.0095 - val_loss: 0.0188\n",
      "Epoch 94/150\n",
      "25/25 [==============================] - 0s 3ms/step - loss: 0.0094 - val_loss: 0.0185\n",
      "Epoch 95/150\n",
      "25/25 [==============================] - 0s 3ms/step - loss: 0.0091 - val_loss: 0.0184\n",
      "Epoch 96/150\n",
      "25/25 [==============================] - 0s 3ms/step - loss: 0.0095 - val_loss: 0.0181\n",
      "Epoch 97/150\n",
      "25/25 [==============================] - 0s 3ms/step - loss: 0.0092 - val_loss: 0.0206\n",
      "Epoch 98/150\n",
      "25/25 [==============================] - 0s 3ms/step - loss: 0.0097 - val_loss: 0.0181\n",
      "Epoch 99/150\n",
      "25/25 [==============================] - 0s 3ms/step - loss: 0.0090 - val_loss: 0.0179\n",
      "Epoch 100/150\n",
      "25/25 [==============================] - 0s 3ms/step - loss: 0.0092 - val_loss: 0.0187\n",
      "Epoch 101/150\n",
      "25/25 [==============================] - 0s 3ms/step - loss: 0.0089 - val_loss: 0.0172\n",
      "Epoch 102/150\n",
      "25/25 [==============================] - 0s 3ms/step - loss: 0.0087 - val_loss: 0.0215\n",
      "Epoch 103/150\n",
      "25/25 [==============================] - 0s 3ms/step - loss: 0.0093 - val_loss: 0.0197\n",
      "Epoch 104/150\n",
      "25/25 [==============================] - 0s 3ms/step - loss: 0.0087 - val_loss: 0.0180\n",
      "Epoch 105/150\n",
      "25/25 [==============================] - 0s 3ms/step - loss: 0.0084 - val_loss: 0.0189\n",
      "Epoch 106/150\n",
      "25/25 [==============================] - 0s 3ms/step - loss: 0.0083 - val_loss: 0.0182\n",
      "Epoch 107/150\n",
      "25/25 [==============================] - 0s 3ms/step - loss: 0.0084 - val_loss: 0.0172\n",
      "Epoch 108/150\n",
      "25/25 [==============================] - 0s 3ms/step - loss: 0.0080 - val_loss: 0.0197\n",
      "Epoch 109/150\n",
      "25/25 [==============================] - 0s 3ms/step - loss: 0.0080 - val_loss: 0.0179\n",
      "Epoch 110/150\n",
      "25/25 [==============================] - 0s 3ms/step - loss: 0.0084 - val_loss: 0.0179\n",
      "Epoch 111/150\n",
      "25/25 [==============================] - 0s 3ms/step - loss: 0.0080 - val_loss: 0.0242\n",
      "Epoch 112/150\n",
      "25/25 [==============================] - 0s 3ms/step - loss: 0.0089 - val_loss: 0.0174\n",
      "Epoch 113/150\n",
      "25/25 [==============================] - 0s 3ms/step - loss: 0.0081 - val_loss: 0.0181\n",
      "Epoch 114/150\n",
      "25/25 [==============================] - 0s 3ms/step - loss: 0.0082 - val_loss: 0.0172\n",
      "Epoch 115/150\n",
      "25/25 [==============================] - 0s 3ms/step - loss: 0.0082 - val_loss: 0.0172\n",
      "Epoch 116/150\n",
      "25/25 [==============================] - 0s 3ms/step - loss: 0.0080 - val_loss: 0.0182\n",
      "Epoch 117/150\n",
      "25/25 [==============================] - 0s 3ms/step - loss: 0.0079 - val_loss: 0.0185\n",
      "Epoch 118/150\n",
      "25/25 [==============================] - 0s 3ms/step - loss: 0.0079 - val_loss: 0.0174\n",
      "Epoch 119/150\n",
      "25/25 [==============================] - 0s 3ms/step - loss: 0.0085 - val_loss: 0.0210\n",
      "Epoch 120/150\n",
      "25/25 [==============================] - 0s 3ms/step - loss: 0.0081 - val_loss: 0.0186\n",
      "Epoch 121/150\n",
      "25/25 [==============================] - 0s 3ms/step - loss: 0.0079 - val_loss: 0.0197\n",
      "Epoch 122/150\n",
      "25/25 [==============================] - 0s 3ms/step - loss: 0.0081 - val_loss: 0.0182\n",
      "Epoch 123/150\n",
      "25/25 [==============================] - 0s 3ms/step - loss: 0.0088 - val_loss: 0.0177\n",
      "Epoch 124/150\n",
      "25/25 [==============================] - 0s 3ms/step - loss: 0.0080 - val_loss: 0.0177\n",
      "Epoch 125/150\n",
      "25/25 [==============================] - 0s 3ms/step - loss: 0.0085 - val_loss: 0.0182\n",
      "Epoch 126/150\n",
      "25/25 [==============================] - 0s 3ms/step - loss: 0.0077 - val_loss: 0.0173\n",
      "Epoch 127/150\n",
      "25/25 [==============================] - 0s 3ms/step - loss: 0.0079 - val_loss: 0.0195\n",
      "Epoch 128/150\n",
      "25/25 [==============================] - 0s 3ms/step - loss: 0.0072 - val_loss: 0.0189\n",
      "Epoch 129/150\n",
      "25/25 [==============================] - 0s 3ms/step - loss: 0.0073 - val_loss: 0.0213\n",
      "Epoch 130/150\n",
      "25/25 [==============================] - 0s 3ms/step - loss: 0.0073 - val_loss: 0.0184\n",
      "Epoch 131/150\n",
      "25/25 [==============================] - 0s 3ms/step - loss: 0.0077 - val_loss: 0.0189\n",
      "Epoch 132/150\n",
      "25/25 [==============================] - 0s 3ms/step - loss: 0.0073 - val_loss: 0.0200\n",
      "Epoch 133/150\n",
      "25/25 [==============================] - 0s 3ms/step - loss: 0.0071 - val_loss: 0.0204\n",
      "Epoch 134/150\n",
      "25/25 [==============================] - 0s 3ms/step - loss: 0.0076 - val_loss: 0.0186\n",
      "Epoch 135/150\n",
      "25/25 [==============================] - 0s 3ms/step - loss: 0.0080 - val_loss: 0.0209\n",
      "Epoch 136/150\n",
      "25/25 [==============================] - 0s 3ms/step - loss: 0.0076 - val_loss: 0.0206\n",
      "Epoch 137/150\n",
      "25/25 [==============================] - 0s 3ms/step - loss: 0.0078 - val_loss: 0.0263\n",
      "Epoch 138/150\n",
      "25/25 [==============================] - 0s 3ms/step - loss: 0.0073 - val_loss: 0.0205\n",
      "Epoch 139/150\n",
      "25/25 [==============================] - 0s 3ms/step - loss: 0.0076 - val_loss: 0.0250\n",
      "Epoch 140/150\n",
      "25/25 [==============================] - 0s 3ms/step - loss: 0.0076 - val_loss: 0.0203\n",
      "Epoch 141/150\n",
      "25/25 [==============================] - 0s 3ms/step - loss: 0.0070 - val_loss: 0.0217\n",
      "Epoch 142/150\n",
      "25/25 [==============================] - 0s 3ms/step - loss: 0.0067 - val_loss: 0.0186\n",
      "Epoch 143/150\n",
      "25/25 [==============================] - 0s 3ms/step - loss: 0.0069 - val_loss: 0.0190\n",
      "Epoch 144/150\n",
      "25/25 [==============================] - 0s 3ms/step - loss: 0.0063 - val_loss: 0.0186\n",
      "Epoch 145/150\n",
      "25/25 [==============================] - 0s 3ms/step - loss: 0.0074 - val_loss: 0.0200\n",
      "Epoch 146/150\n",
      "25/25 [==============================] - 0s 3ms/step - loss: 0.0072 - val_loss: 0.0193\n",
      "Epoch 147/150\n",
      "25/25 [==============================] - 0s 3ms/step - loss: 0.0067 - val_loss: 0.0203\n",
      "Epoch 148/150\n",
      "25/25 [==============================] - 0s 3ms/step - loss: 0.0066 - val_loss: 0.0200\n",
      "Epoch 149/150\n",
      "25/25 [==============================] - 0s 3ms/step - loss: 0.0069 - val_loss: 0.0177\n",
      "Epoch 150/150\n",
      "25/25 [==============================] - 0s 3ms/step - loss: 0.0072 - val_loss: 0.0240\n"
     ]
    },
    {
     "data": {
      "text/plain": [
       "<keras.src.callbacks.History at 0x26cd61029d0>"
      ]
     },
     "execution_count": 54,
     "metadata": {},
     "output_type": "execute_result"
    }
   ],
   "source": [
    "model=Sequential()\n",
    "model.add(Dense(64,input_dim=x_train.shape[1],activation='relu'))\n",
    "model.add(Dense(32,activation='relu'))\n",
    "model.add(Dense(16,activation='relu'))\n",
    "model.add(Dense(16,activation='relu'))\n",
    "model.add(Dense(16,activation='relu'))\n",
    "model.add(Dense(8,activation='relu'))\n",
    "model.add(Dense(8,activation='relu'))\n",
    "model.add(Dense(8,activation='relu'))\n",
    "model.add(Dense(1))\n",
    "\n",
    "\n",
    "model.compile(optimizer='adam', loss='mean_squared_error') \n",
    "model.fit(x_train,y_train,epochs=150,batch_size=32,verbose=1,validation_split=0.2)          "
   ]
  },
  {
   "cell_type": "code",
   "execution_count": 55,
   "id": "35a42e48",
   "metadata": {},
   "outputs": [
    {
     "name": "stdout",
     "output_type": "stream",
     "text": [
      "8/8 [==============================] - 0s 1ms/step\n",
      "(249, 1)\n",
      "(249, 10)\n"
     ]
    }
   ],
   "source": [
    "final_predict=model.predict(x_test)\n",
    "print(final_predict.shape)\n",
    "print(x_test.shape)"
   ]
  },
  {
   "cell_type": "code",
   "execution_count": 56,
   "id": "5ca0b505",
   "metadata": {},
   "outputs": [
    {
     "name": "stdout",
     "output_type": "stream",
     "text": [
      "0.02195557453014802\n",
      "predicted: 71814.91 , Actual: 32767.20\n",
      "predicted: 44331.48 , Actual: 34045.39\n",
      "predicted: 65821.06 , Actual: 53274.67\n",
      "predicted: 124631.47 , Actual: 95371.20\n",
      "predicted: 74806.59 , Actual: 52161.12\n"
     ]
    }
   ],
   "source": [
    "mse=mean_squared_error(y_test,final_predict)\n",
    "print(mse)\n",
    "y_pred_original=mms.inverse_transform(final_predict.reshape(-1, 1)).flatten()\n",
    "y_test_original=mms.inverse_transform(y_test.reshape(-1, 1)).flatten()\n",
    "\n",
    "for i in range(5):\n",
    "    print(f\"predicted: {y_pred_original[i]:.2f} , Actual: {y_test_original[i]:.2f}\")"
   ]
  },
  {
   "cell_type": "code",
   "execution_count": null,
   "id": "082b9a55",
   "metadata": {},
   "outputs": [],
   "source": []
  },
  {
   "cell_type": "code",
   "execution_count": null,
   "id": "56a2b578",
   "metadata": {},
   "outputs": [],
   "source": []
  }
 ],
 "metadata": {
  "kernelspec": {
   "display_name": "Python 3",
   "language": "python",
   "name": "python3"
  },
  "language_info": {
   "codemirror_mode": {
    "name": "ipython",
    "version": 3
   },
   "file_extension": ".py",
   "mimetype": "text/x-python",
   "name": "python",
   "nbconvert_exporter": "python",
   "pygments_lexer": "ipython3",
   "version": "3.8.8"
  }
 },
 "nbformat": 4,
 "nbformat_minor": 5
}
